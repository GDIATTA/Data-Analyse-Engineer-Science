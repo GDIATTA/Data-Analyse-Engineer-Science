{
 "cells": [
  {
   "cell_type": "markdown",
   "metadata": {
    "_uuid": "4e53daea64ae7fe95c31f576300557f904d31085"
   },
   "source": [
    "# K Nearrest Neighbors \n",
    "[FR]\n",
    "\n",
    "Dans ce TP, j'utiliserai K Nearest Neighbors pour construire le modèle et puis modeliserai la détection de fraude par carte de crédit.\n",
    "\n",
    "[EN]\n",
    "In this analysis, you will be using K Nearest Neighbors to build the model and as the dataset: Credit Card Fraud Detection dataset provided by Kaggle.\n",
    "\n"
   ]
  },
  {
   "cell_type": "markdown",
   "metadata": {
    "_uuid": "f268518f535ac9d70988aabb31ea49fb20d89c08"
   },
   "source": [
    "## 1. Import libraries"
   ]
  },
  {
   "cell_type": "code",
   "execution_count": 268,
   "metadata": {
    "_cell_guid": "b1076dfc-b9ad-4769-8c92-a6c4dae69d19",
    "_uuid": "8f2839f25d086af736a60e9eeb907d3b93b6e0e5"
   },
   "outputs": [],
   "source": [
    "# main libraries\n",
    "import pandas as pd\n",
    "import numpy as np\n",
    "\n",
    "# visual libraries\n",
    "from matplotlib import pyplot as plt\n",
    "\n",
    "# sklearn libraries\n",
    "from sklearn.neighbors import KNeighborsClassifier\n",
    "from sklearn.model_selection import train_test_split\n",
    "from sklearn.preprocessing import normalize\n",
    "from sklearn.metrics import confusion_matrix,accuracy_score,precision_score,recall_score,f1_score,classification_report\n",
    "from sklearn.preprocessing import StandardScaler\n"
   ]
  },
  {
   "cell_type": "markdown",
   "metadata": {
    "_uuid": "c2da9321245350925e7a73ad1803c29269e4c8c0"
   },
   "source": [
    "## 2. Read data\n"
   ]
  },
  {
   "cell_type": "code",
   "execution_count": 269,
   "metadata": {
    "_uuid": "2e70de34465fa3f2b17ad536099bdf52b131115f"
   },
   "outputs": [
    {
     "data": {
      "text/html": [
       "<div>\n",
       "<style scoped>\n",
       "    .dataframe tbody tr th:only-of-type {\n",
       "        vertical-align: middle;\n",
       "    }\n",
       "\n",
       "    .dataframe tbody tr th {\n",
       "        vertical-align: top;\n",
       "    }\n",
       "\n",
       "    .dataframe thead th {\n",
       "        text-align: right;\n",
       "    }\n",
       "</style>\n",
       "<table border=\"1\" class=\"dataframe\">\n",
       "  <thead>\n",
       "    <tr style=\"text-align: right;\">\n",
       "      <th></th>\n",
       "      <th>Time</th>\n",
       "      <th>V1</th>\n",
       "      <th>V2</th>\n",
       "      <th>V3</th>\n",
       "      <th>V4</th>\n",
       "      <th>V5</th>\n",
       "      <th>V6</th>\n",
       "      <th>V7</th>\n",
       "      <th>V8</th>\n",
       "      <th>V9</th>\n",
       "      <th>...</th>\n",
       "      <th>V21</th>\n",
       "      <th>V22</th>\n",
       "      <th>V23</th>\n",
       "      <th>V24</th>\n",
       "      <th>V25</th>\n",
       "      <th>V26</th>\n",
       "      <th>V27</th>\n",
       "      <th>V28</th>\n",
       "      <th>Amount</th>\n",
       "      <th>Class</th>\n",
       "    </tr>\n",
       "  </thead>\n",
       "  <tbody>\n",
       "    <tr>\n",
       "      <th>0</th>\n",
       "      <td>0.0</td>\n",
       "      <td>-1.359807</td>\n",
       "      <td>-0.072781</td>\n",
       "      <td>2.536347</td>\n",
       "      <td>1.378155</td>\n",
       "      <td>-0.338321</td>\n",
       "      <td>0.462388</td>\n",
       "      <td>0.239599</td>\n",
       "      <td>0.098698</td>\n",
       "      <td>0.363787</td>\n",
       "      <td>...</td>\n",
       "      <td>-0.018307</td>\n",
       "      <td>0.277838</td>\n",
       "      <td>-0.110474</td>\n",
       "      <td>0.066928</td>\n",
       "      <td>0.128539</td>\n",
       "      <td>-0.189115</td>\n",
       "      <td>0.133558</td>\n",
       "      <td>-0.021053</td>\n",
       "      <td>149.62</td>\n",
       "      <td>0</td>\n",
       "    </tr>\n",
       "    <tr>\n",
       "      <th>1</th>\n",
       "      <td>0.0</td>\n",
       "      <td>1.191857</td>\n",
       "      <td>0.266151</td>\n",
       "      <td>0.166480</td>\n",
       "      <td>0.448154</td>\n",
       "      <td>0.060018</td>\n",
       "      <td>-0.082361</td>\n",
       "      <td>-0.078803</td>\n",
       "      <td>0.085102</td>\n",
       "      <td>-0.255425</td>\n",
       "      <td>...</td>\n",
       "      <td>-0.225775</td>\n",
       "      <td>-0.638672</td>\n",
       "      <td>0.101288</td>\n",
       "      <td>-0.339846</td>\n",
       "      <td>0.167170</td>\n",
       "      <td>0.125895</td>\n",
       "      <td>-0.008983</td>\n",
       "      <td>0.014724</td>\n",
       "      <td>2.69</td>\n",
       "      <td>0</td>\n",
       "    </tr>\n",
       "    <tr>\n",
       "      <th>2</th>\n",
       "      <td>1.0</td>\n",
       "      <td>-1.358354</td>\n",
       "      <td>-1.340163</td>\n",
       "      <td>1.773209</td>\n",
       "      <td>0.379780</td>\n",
       "      <td>-0.503198</td>\n",
       "      <td>1.800499</td>\n",
       "      <td>0.791461</td>\n",
       "      <td>0.247676</td>\n",
       "      <td>-1.514654</td>\n",
       "      <td>...</td>\n",
       "      <td>0.247998</td>\n",
       "      <td>0.771679</td>\n",
       "      <td>0.909412</td>\n",
       "      <td>-0.689281</td>\n",
       "      <td>-0.327642</td>\n",
       "      <td>-0.139097</td>\n",
       "      <td>-0.055353</td>\n",
       "      <td>-0.059752</td>\n",
       "      <td>378.66</td>\n",
       "      <td>0</td>\n",
       "    </tr>\n",
       "    <tr>\n",
       "      <th>3</th>\n",
       "      <td>1.0</td>\n",
       "      <td>-0.966272</td>\n",
       "      <td>-0.185226</td>\n",
       "      <td>1.792993</td>\n",
       "      <td>-0.863291</td>\n",
       "      <td>-0.010309</td>\n",
       "      <td>1.247203</td>\n",
       "      <td>0.237609</td>\n",
       "      <td>0.377436</td>\n",
       "      <td>-1.387024</td>\n",
       "      <td>...</td>\n",
       "      <td>-0.108300</td>\n",
       "      <td>0.005274</td>\n",
       "      <td>-0.190321</td>\n",
       "      <td>-1.175575</td>\n",
       "      <td>0.647376</td>\n",
       "      <td>-0.221929</td>\n",
       "      <td>0.062723</td>\n",
       "      <td>0.061458</td>\n",
       "      <td>123.50</td>\n",
       "      <td>0</td>\n",
       "    </tr>\n",
       "    <tr>\n",
       "      <th>4</th>\n",
       "      <td>2.0</td>\n",
       "      <td>-1.158233</td>\n",
       "      <td>0.877737</td>\n",
       "      <td>1.548718</td>\n",
       "      <td>0.403034</td>\n",
       "      <td>-0.407193</td>\n",
       "      <td>0.095921</td>\n",
       "      <td>0.592941</td>\n",
       "      <td>-0.270533</td>\n",
       "      <td>0.817739</td>\n",
       "      <td>...</td>\n",
       "      <td>-0.009431</td>\n",
       "      <td>0.798278</td>\n",
       "      <td>-0.137458</td>\n",
       "      <td>0.141267</td>\n",
       "      <td>-0.206010</td>\n",
       "      <td>0.502292</td>\n",
       "      <td>0.219422</td>\n",
       "      <td>0.215153</td>\n",
       "      <td>69.99</td>\n",
       "      <td>0</td>\n",
       "    </tr>\n",
       "  </tbody>\n",
       "</table>\n",
       "<p>5 rows × 31 columns</p>\n",
       "</div>"
      ],
      "text/plain": [
       "   Time        V1        V2        V3        V4        V5        V6        V7  \\\n",
       "0   0.0 -1.359807 -0.072781  2.536347  1.378155 -0.338321  0.462388  0.239599   \n",
       "1   0.0  1.191857  0.266151  0.166480  0.448154  0.060018 -0.082361 -0.078803   \n",
       "2   1.0 -1.358354 -1.340163  1.773209  0.379780 -0.503198  1.800499  0.791461   \n",
       "3   1.0 -0.966272 -0.185226  1.792993 -0.863291 -0.010309  1.247203  0.237609   \n",
       "4   2.0 -1.158233  0.877737  1.548718  0.403034 -0.407193  0.095921  0.592941   \n",
       "\n",
       "         V8        V9  ...       V21       V22       V23       V24       V25  \\\n",
       "0  0.098698  0.363787  ... -0.018307  0.277838 -0.110474  0.066928  0.128539   \n",
       "1  0.085102 -0.255425  ... -0.225775 -0.638672  0.101288 -0.339846  0.167170   \n",
       "2  0.247676 -1.514654  ...  0.247998  0.771679  0.909412 -0.689281 -0.327642   \n",
       "3  0.377436 -1.387024  ... -0.108300  0.005274 -0.190321 -1.175575  0.647376   \n",
       "4 -0.270533  0.817739  ... -0.009431  0.798278 -0.137458  0.141267 -0.206010   \n",
       "\n",
       "        V26       V27       V28  Amount  Class  \n",
       "0 -0.189115  0.133558 -0.021053  149.62      0  \n",
       "1  0.125895 -0.008983  0.014724    2.69      0  \n",
       "2 -0.139097 -0.055353 -0.059752  378.66      0  \n",
       "3 -0.221929  0.062723  0.061458  123.50      0  \n",
       "4  0.502292  0.219422  0.215153   69.99      0  \n",
       "\n",
       "[5 rows x 31 columns]"
      ]
     },
     "execution_count": 269,
     "metadata": {},
     "output_type": "execute_result"
    }
   ],
   "source": [
    "# Read the data in the CSV file using pandas\n",
    "df = pd.read_csv('creditcard.csv')\n",
    "df.head()"
   ]
  },
  {
   "cell_type": "code",
   "execution_count": 270,
   "metadata": {
    "_uuid": "5c01134faf6085f5e59b1cf5bf69e14e31bef48f"
   },
   "outputs": [
    {
     "data": {
      "text/plain": [
       "(284807, 31)"
      ]
     },
     "execution_count": 270,
     "metadata": {},
     "output_type": "execute_result"
    }
   ],
   "source": [
    "df.shape"
   ]
  },
  {
   "cell_type": "markdown",
   "metadata": {
    "_uuid": "8175d370b89cdbdddcd268f635bf165a33b87f77"
   },
   "source": [
    "## 3. Checking for missing values\n"
   ]
  },
  {
   "cell_type": "code",
   "execution_count": 271,
   "metadata": {
    "_uuid": "2347ebe9ca4141a9fb1366af6608cf6627f40182"
   },
   "outputs": [
    {
     "data": {
      "text/plain": [
       "Time      0\n",
       "V1        0\n",
       "V2        0\n",
       "V3        0\n",
       "V4        0\n",
       "V5        0\n",
       "V6        0\n",
       "V7        0\n",
       "V8        0\n",
       "V9        0\n",
       "V10       0\n",
       "V11       0\n",
       "V12       0\n",
       "V13       0\n",
       "V14       0\n",
       "V15       0\n",
       "V16       0\n",
       "V17       0\n",
       "V18       0\n",
       "V19       0\n",
       "V20       0\n",
       "V21       0\n",
       "V22       0\n",
       "V23       0\n",
       "V24       0\n",
       "V25       0\n",
       "V26       0\n",
       "V27       0\n",
       "V28       0\n",
       "Amount    0\n",
       "Class     0\n",
       "dtype: int64"
      ]
     },
     "execution_count": 271,
     "metadata": {},
     "output_type": "execute_result"
    }
   ],
   "source": [
    "df.isnull().sum()"
   ]
  },
  {
   "cell_type": "markdown",
   "metadata": {
    "_uuid": "587d53f059d6fd4ad6dd1cf1754b9348b7f4a60f"
   },
   "source": [
    "### Find the percentage of samples belonging to each class. \n",
    "The dataset is labeled as 0s and 1s. 0 = non fraud and 1 = fraud. \n"
   ]
  },
  {
   "cell_type": "code",
   "execution_count": 272,
   "metadata": {
    "_uuid": "1ed4301fde7d58f6320adfba10c4f09e28e942cf"
   },
   "outputs": [
    {
     "name": "stdout",
     "output_type": "stream",
     "text": [
      "frauds : 0.1727485630620034 %\n",
      "non frauds : 99.82725143693798 %\n"
     ]
    }
   ],
   "source": [
    "nb_samples = df.shape[0]\n",
    "fraud = df[df['Class'] == 1]\n",
    "nonFraud = df[df['Class'] == 0]\n",
    "\n",
    "x = len(fraud)/nb_samples\n",
    "y = len(nonFraud)/nb_samples\n",
    "\n",
    "print('frauds :',x*100,'%')\n",
    "print('non frauds :',y*100,'%')"
   ]
  },
  {
   "cell_type": "code",
   "execution_count": 273,
   "metadata": {},
   "outputs": [
    {
     "data": {
      "image/png": "[encoded data removed]",
      "text/plain": [
       "<Figure size 432x432 with 1 Axes>"
      ]
     },
     "metadata": {
      "needs_background": "light"
     },
     "output_type": "display_data"
    }
   ],
   "source": [
    "# Plot the bar-plot of the 'Class' attribute\n",
    "plt.figure(figsize=(6,6))\n",
    "labels = ['non frauds','fraud']\n",
    "plt.bar(labels, height = df['Class'].value_counts(), width = 0.4)\n",
    "plt.title(\"Transaction class distribution\")\n",
    "plt.xticks(range(2), labels)\n",
    "plt.xlabel(\"Class\")\n",
    "plt.ylabel(\"Frequency\")\n",
    "plt.show()"
   ]
  },
  {
   "cell_type": "markdown",
   "metadata": {},
   "source": [
    "## Observations\n"
   ]
  },
  {
   "cell_type": "markdown",
   "metadata": {},
   "source": [
    "Enter here your Observation"
   ]
  },
  {
   "cell_type": "markdown",
   "metadata": {},
   "source": [
    "## 4. Balance the dataset"
   ]
  },
  {
   "cell_type": "markdown",
   "metadata": {
    "_uuid": "99688bbddeb776e935aecff5adc3fcb3739e2c4c"
   },
   "source": [
    "hint: Since the data is highly imbalanced, take only 492 rows from the non_fraud transactions."
   ]
  },
  {
   "cell_type": "code",
   "execution_count": 274,
   "metadata": {},
   "outputs": [],
   "source": [
    "# Shuffle the data before creating the subsamples\n",
    "df = df.sample(frac=1)"
   ]
  },
  {
   "cell_type": "code",
   "execution_count": 275,
   "metadata": {},
   "outputs": [],
   "source": [
    "#create a new dataframe containing only the non-frauds transactions\n",
    "non_frauds = df[df['Class'] == 0]"
   ]
  },
  {
   "cell_type": "code",
   "execution_count": 276,
   "metadata": {},
   "outputs": [],
   "source": [
    "#create a new dataframe containing only the frauds transactions\n",
    "frauds = df[df['Class'] == 1]"
   ]
  },
  {
   "cell_type": "code",
   "execution_count": 277,
   "metadata": {},
   "outputs": [],
   "source": [
    "# take only 492 rows from the non_fraud transactions.\n",
    "non_frauds = df[df['Class'] == 0][:492]"
   ]
  },
  {
   "cell_type": "code",
   "execution_count": 278,
   "metadata": {},
   "outputs": [],
   "source": [
    "#concatenate the new dataframes to get a balanced dataset\n",
    "new_df = pd.concat([non_frauds, frauds])"
   ]
  },
  {
   "cell_type": "code",
   "execution_count": 279,
   "metadata": {
    "_uuid": "7a2f4853bbf85e67be035cc62870ba137fe56123"
   },
   "outputs": [
    {
     "data": {
      "text/html": [
       "<div>\n",
       "<style scoped>\n",
       "    .dataframe tbody tr th:only-of-type {\n",
       "        vertical-align: middle;\n",
       "    }\n",
       "\n",
       "    .dataframe tbody tr th {\n",
       "        vertical-align: top;\n",
       "    }\n",
       "\n",
       "    .dataframe thead th {\n",
       "        text-align: right;\n",
       "    }\n",
       "</style>\n",
       "<table border=\"1\" class=\"dataframe\">\n",
       "  <thead>\n",
       "    <tr style=\"text-align: right;\">\n",
       "      <th></th>\n",
       "      <th>Time</th>\n",
       "      <th>V1</th>\n",
       "      <th>V2</th>\n",
       "      <th>V3</th>\n",
       "      <th>V4</th>\n",
       "      <th>V5</th>\n",
       "      <th>V6</th>\n",
       "      <th>V7</th>\n",
       "      <th>V8</th>\n",
       "      <th>V9</th>\n",
       "      <th>...</th>\n",
       "      <th>V21</th>\n",
       "      <th>V22</th>\n",
       "      <th>V23</th>\n",
       "      <th>V24</th>\n",
       "      <th>V25</th>\n",
       "      <th>V26</th>\n",
       "      <th>V27</th>\n",
       "      <th>V28</th>\n",
       "      <th>Amount</th>\n",
       "      <th>Class</th>\n",
       "    </tr>\n",
       "  </thead>\n",
       "  <tbody>\n",
       "    <tr>\n",
       "      <th>106679</th>\n",
       "      <td>70071.0</td>\n",
       "      <td>-0.440095</td>\n",
       "      <td>1.137239</td>\n",
       "      <td>-3.227080</td>\n",
       "      <td>3.242293</td>\n",
       "      <td>-2.033998</td>\n",
       "      <td>-1.618415</td>\n",
       "      <td>-3.028013</td>\n",
       "      <td>0.764555</td>\n",
       "      <td>-1.801937</td>\n",
       "      <td>...</td>\n",
       "      <td>0.764187</td>\n",
       "      <td>-0.275578</td>\n",
       "      <td>-0.343572</td>\n",
       "      <td>0.233085</td>\n",
       "      <td>0.606434</td>\n",
       "      <td>-0.315433</td>\n",
       "      <td>0.768291</td>\n",
       "      <td>0.459623</td>\n",
       "      <td>227.30</td>\n",
       "      <td>1</td>\n",
       "    </tr>\n",
       "    <tr>\n",
       "      <th>87353</th>\n",
       "      <td>61646.0</td>\n",
       "      <td>-1.760224</td>\n",
       "      <td>0.178018</td>\n",
       "      <td>2.036873</td>\n",
       "      <td>-1.236962</td>\n",
       "      <td>-0.885943</td>\n",
       "      <td>-0.431419</td>\n",
       "      <td>0.063470</td>\n",
       "      <td>0.511369</td>\n",
       "      <td>0.395058</td>\n",
       "      <td>...</td>\n",
       "      <td>0.296386</td>\n",
       "      <td>0.898046</td>\n",
       "      <td>-0.016801</td>\n",
       "      <td>0.578932</td>\n",
       "      <td>0.670496</td>\n",
       "      <td>-0.538449</td>\n",
       "      <td>-0.083493</td>\n",
       "      <td>-0.052273</td>\n",
       "      <td>89.76</td>\n",
       "      <td>0</td>\n",
       "    </tr>\n",
       "    <tr>\n",
       "      <th>42756</th>\n",
       "      <td>41233.0</td>\n",
       "      <td>-10.645800</td>\n",
       "      <td>5.918307</td>\n",
       "      <td>-11.671043</td>\n",
       "      <td>8.807369</td>\n",
       "      <td>-7.975501</td>\n",
       "      <td>-3.586806</td>\n",
       "      <td>-13.616797</td>\n",
       "      <td>6.428169</td>\n",
       "      <td>-7.368451</td>\n",
       "      <td>...</td>\n",
       "      <td>2.571970</td>\n",
       "      <td>0.206809</td>\n",
       "      <td>-1.667801</td>\n",
       "      <td>0.558419</td>\n",
       "      <td>-0.027898</td>\n",
       "      <td>0.354254</td>\n",
       "      <td>0.273329</td>\n",
       "      <td>-0.152908</td>\n",
       "      <td>0.00</td>\n",
       "      <td>1</td>\n",
       "    </tr>\n",
       "    <tr>\n",
       "      <th>30114</th>\n",
       "      <td>35778.0</td>\n",
       "      <td>-1.224330</td>\n",
       "      <td>1.355936</td>\n",
       "      <td>1.244038</td>\n",
       "      <td>1.227976</td>\n",
       "      <td>-0.247340</td>\n",
       "      <td>0.303546</td>\n",
       "      <td>0.276756</td>\n",
       "      <td>0.566460</td>\n",
       "      <td>-0.715876</td>\n",
       "      <td>...</td>\n",
       "      <td>0.073032</td>\n",
       "      <td>0.347085</td>\n",
       "      <td>-0.133382</td>\n",
       "      <td>0.245556</td>\n",
       "      <td>0.147322</td>\n",
       "      <td>-0.226037</td>\n",
       "      <td>0.007530</td>\n",
       "      <td>0.105288</td>\n",
       "      <td>32.25</td>\n",
       "      <td>0</td>\n",
       "    </tr>\n",
       "    <tr>\n",
       "      <th>87231</th>\n",
       "      <td>61592.0</td>\n",
       "      <td>0.820056</td>\n",
       "      <td>-0.390922</td>\n",
       "      <td>0.614128</td>\n",
       "      <td>1.423590</td>\n",
       "      <td>-0.773424</td>\n",
       "      <td>-0.375715</td>\n",
       "      <td>-0.034618</td>\n",
       "      <td>0.008243</td>\n",
       "      <td>0.264006</td>\n",
       "      <td>...</td>\n",
       "      <td>0.310756</td>\n",
       "      <td>0.565251</td>\n",
       "      <td>-0.194431</td>\n",
       "      <td>0.411168</td>\n",
       "      <td>0.414038</td>\n",
       "      <td>-0.227803</td>\n",
       "      <td>0.014652</td>\n",
       "      <td>0.055201</td>\n",
       "      <td>174.15</td>\n",
       "      <td>0</td>\n",
       "    </tr>\n",
       "  </tbody>\n",
       "</table>\n",
       "<p>5 rows × 31 columns</p>\n",
       "</div>"
      ],
      "text/plain": [
       "           Time         V1        V2         V3        V4        V5        V6  \\\n",
       "106679  70071.0  -0.440095  1.137239  -3.227080  3.242293 -2.033998 -1.618415   \n",
       "87353   61646.0  -1.760224  0.178018   2.036873 -1.236962 -0.885943 -0.431419   \n",
       "42756   41233.0 -10.645800  5.918307 -11.671043  8.807369 -7.975501 -3.586806   \n",
       "30114   35778.0  -1.224330  1.355936   1.244038  1.227976 -0.247340  0.303546   \n",
       "87231   61592.0   0.820056 -0.390922   0.614128  1.423590 -0.773424 -0.375715   \n",
       "\n",
       "               V7        V8        V9  ...       V21       V22       V23  \\\n",
       "106679  -3.028013  0.764555 -1.801937  ...  0.764187 -0.275578 -0.343572   \n",
       "87353    0.063470  0.511369  0.395058  ...  0.296386  0.898046 -0.016801   \n",
       "42756  -13.616797  6.428169 -7.368451  ...  2.571970  0.206809 -1.667801   \n",
       "30114    0.276756  0.566460 -0.715876  ...  0.073032  0.347085 -0.133382   \n",
       "87231   -0.034618  0.008243  0.264006  ...  0.310756  0.565251 -0.194431   \n",
       "\n",
       "             V24       V25       V26       V27       V28  Amount  Class  \n",
       "106679  0.233085  0.606434 -0.315433  0.768291  0.459623  227.30      1  \n",
       "87353   0.578932  0.670496 -0.538449 -0.083493 -0.052273   89.76      0  \n",
       "42756   0.558419 -0.027898  0.354254  0.273329 -0.152908    0.00      1  \n",
       "30114   0.245556  0.147322 -0.226037  0.007530  0.105288   32.25      0  \n",
       "87231   0.411168  0.414038 -0.227803  0.014652  0.055201  174.15      0  \n",
       "\n",
       "[5 rows x 31 columns]"
      ]
     },
     "execution_count": 279,
     "metadata": {},
     "output_type": "execute_result"
    }
   ],
   "source": [
    "# Shuffle dataframe rows\n",
    "new_df = new_df.sample(frac=1, random_state=42)\n",
    "new_df.head()"
   ]
  },
  {
   "cell_type": "code",
   "execution_count": 280,
   "metadata": {
    "_uuid": "158a9693da5d8a1d76dc8a6e9cba2cec978f68ee"
   },
   "outputs": [
    {
     "data": {
      "image/png": "[encoded data removed]",
      "text/plain": [
       "<Figure size 432x432 with 1 Axes>"
      ]
     },
     "metadata": {
      "needs_background": "light"
     },
     "output_type": "display_data"
    }
   ],
   "source": [
    "# Plot the bar-plot of the 'Class' attribute\n",
    "plt.figure(figsize=(6,6))\n",
    "labels = ['non frauds','fraud']\n",
    "plt.bar(labels, height = new_df['Class'].value_counts(), width = 0.4)\n",
    "plt.title(\"Balanced Transaction class distribution\")\n",
    "plt.xticks(range(2), labels)\n",
    "plt.xlabel(\"Class\")\n",
    "plt.ylabel(\"Frequency\")\n",
    "plt.show()"
   ]
  },
  {
   "cell_type": "code",
   "execution_count": 282,
   "metadata": {
    "_uuid": "0d3b20c80a842b244cdd8f3be03bc1724710db9d"
   },
   "outputs": [],
   "source": [
    "# split features and labels\n",
    "features = new_df.drop(['Class'], axis = 1)\n",
    "labels = pd.DataFrame(new_df['Class'])"
   ]
  },
  {
   "cell_type": "markdown",
   "metadata": {
    "_uuid": "7fa0c3fcb5e1d0dc3547659d129caaa0316b15b7"
   },
   "source": [
    "## 5. Standardize the data\n",
    " "
   ]
  },
  {
   "cell_type": "code",
   "execution_count": 283,
   "metadata": {},
   "outputs": [],
   "source": [
    "# Standardizing all the features \n",
    "scaled_features = StandardScaler().fit_transform(features)\n"
   ]
  },
  {
   "cell_type": "markdown",
   "metadata": {
    "_uuid": "336f76cf1d136a4079ca84c94979cebc496d8616"
   },
   "source": [
    "## 6. Data splitting"
   ]
  },
  {
   "cell_type": "code",
   "execution_count": 291,
   "metadata": {
    "_uuid": "3bcf871b5ccfa8b4a21de5c0f53645a71f66f932"
   },
   "outputs": [],
   "source": [
    "# splitting the feature array and label array keeping 80% for the trainnig sets\n",
    "X_train,X_test,y_train,y_test = train_test_split(scaled_features,labels,test_size=0.20)\n",
    "\n"
   ]
  },
  {
   "cell_type": "code",
   "execution_count": 298,
   "metadata": {},
   "outputs": [
    {
     "name": "stdout",
     "output_type": "stream",
     "text": [
      "training samples shape:  (787, 30)\n",
      "training labels shape:  (787, 1)\n"
     ]
    }
   ],
   "source": [
    "#shape of training samples and training labels \n",
    "print(\"training samples shape: \",X_train.shape)\n",
    "print(\"training labels shape: \",y_train.shape)"
   ]
  },
  {
   "cell_type": "code",
   "execution_count": 294,
   "metadata": {},
   "outputs": [
    {
     "name": "stdout",
     "output_type": "stream",
     "text": [
      "testing samples shape:  (197, 30)\n",
      "testing labels shape:  (197, 1)\n"
     ]
    }
   ],
   "source": [
    "#shape of testing samples and testing labels \n",
    "print(\"testing samples shape: \",X_test.shape)\n",
    "print(\"testing labels shape: \",y_test.shape)"
   ]
  },
  {
   "cell_type": "markdown",
   "metadata": {},
   "source": [
    "## 7. Build KNN model"
   ]
  },
  {
   "cell_type": "markdown",
   "metadata": {
    "_uuid": "1b99020fb4fb2fc87860f53a7940f606bd668090"
   },
   "source": [
    "Find the optimal number of neighbors K (from 2 to 25) to get the best KNN model classifier."
   ]
  },
  {
   "cell_type": "code",
   "execution_count": 315,
   "metadata": {
    "_uuid": "6868e4ee23a60eb5f03769a3c41482a49c51a292"
   },
   "outputs": [],
   "source": [
    "# Create a list with values from 3 to 24\n",
    "neighbours = np.arange(2,26)\n",
    "\n",
    "# Create 2 empty lists for train_accuracy and test_accuracy\n",
    "train_accuracy =np.empty(len(neighbours))\n",
    "test_accuracy = np.empty(len(neighbours))\n",
    "\n",
    "# Using a for loop, iterate through the 25 possibilities\n",
    "# At each iteration:\n",
    "    # Create a KNN classifier with the current number of neighbors\n",
    "    # Train the KNN classifier\n",
    "    # Compute accuracy on the training set and append it to the corresponding list\n",
    "    # Compute accuracy on the test set and append it to the corresponding list\n",
    "for i,k in enumerate(neighbours):\n",
    "    #Setup a knn classifier with k neighbors\n",
    "    knn=KNeighborsClassifier(n_neighbors=k)\n",
    "    \n",
    "    #Fit the model\n",
    "    knn.fit(X_train,np.array(y_train).ravel())\n",
    "    \n",
    "    #Compute accuracy on the training set\n",
    "    train_accuracy[i] = knn.score(X_train, np.array(y_train).ravel())\n",
    "    \n",
    "    #Compute accuracy on the test set\n",
    "    test_accuracy[i] = knn.score(X_test, np.array(y_test).ravel()) "
   ]
  },
  {
   "cell_type": "code",
   "execution_count": 316,
   "metadata": {
    "_uuid": "21b8b6b3b2d6a9dbaac374b9f103881566f03b4f"
   },
   "outputs": [
    {
     "data": {
      "image/png": "[encoded data removed]",
      "text/plain": [
       "<Figure size 360x360 with 1 Axes>"
      ]
     },
     "metadata": {
      "needs_background": "light"
     },
     "output_type": "display_data"
    }
   ],
   "source": [
    "#Generate a plot showing the Training and Testing accuracy in function of the parameter K\n",
    "plt.figure(figsize=(5,5))\n",
    "plt.title('k-NN Varying number of neighbors')\n",
    "plt.plot(neighbours, train_accuracy, label='Training accuracy')\n",
    "plt.plot(neighbours, test_accuracy, label='Testing Accuracy')\n",
    "\n",
    "plt.legend()\n",
    "plt.xlabel('Number of neighbors')\n",
    "plt.ylabel('Accuracy')\n",
    "plt.show()"
   ]
  },
  {
   "cell_type": "code",
   "execution_count": 317,
   "metadata": {},
   "outputs": [
    {
     "data": {
      "text/plain": [
       "array([0.92893401, 0.90862944, 0.91878173, 0.9035533 , 0.91370558,\n",
       "       0.90862944, 0.92385787, 0.91370558, 0.91878173, 0.90862944,\n",
       "       0.91878173, 0.90862944, 0.90862944, 0.90862944, 0.91370558,\n",
       "       0.9035533 , 0.90862944, 0.9035533 , 0.9035533 , 0.9035533 ,\n",
       "       0.90862944, 0.89847716])"
      ]
     },
     "execution_count": 317,
     "metadata": {},
     "output_type": "execute_result"
    }
   ],
   "source": [
    "#Print the list of test accuracy for the different hyperparameter k\n",
    "test_accuracy"
   ]
  },
  {
   "cell_type": "code",
   "execution_count": 329,
   "metadata": {
    "_uuid": "c0522a3b1200b42c45de2c93add385736e36d382"
   },
   "outputs": [],
   "source": [
    "# find the optimal nunmber of neighbors (K) maximizing the testing accuracy\n",
    "idx = np.where(test_accuracy == max(test_accuracy))\n",
    "k = neighbours[idx][0]"
   ]
  },
  {
   "cell_type": "code",
   "execution_count": 330,
   "metadata": {},
   "outputs": [
    {
     "data": {
      "text/plain": [
       "3"
      ]
     },
     "execution_count": 330,
     "metadata": {},
     "output_type": "execute_result"
    }
   ],
   "source": [
    "k"
   ]
  },
  {
   "cell_type": "markdown",
   "metadata": {},
   "source": [
    "## 8. Build a KNN model with the optimal number of neighbors"
   ]
  },
  {
   "cell_type": "code",
   "execution_count": 331,
   "metadata": {
    "_uuid": "aaebcd1b8a6c22fdcdc5163db45b050db5ef13c5"
   },
   "outputs": [
    {
     "data": {
      "text/plain": [
       "KNeighborsClassifier(n_neighbors=3)"
      ]
     },
     "execution_count": 331,
     "metadata": {},
     "output_type": "execute_result"
    }
   ],
   "source": [
    "#k_nearest_neighbours_classification\n",
    "k = 3\n",
    "knn=KNeighborsClassifier(k)\n",
    "knn.fit(X_train,np.array(y_train).ravel())"
   ]
  },
  {
   "cell_type": "code",
   "execution_count": 332,
   "metadata": {
    "_uuid": "9baf532b35c1f6ec3fa87368ec5479852e296d64"
   },
   "outputs": [],
   "source": [
    "# predicting labels for testing set\n",
    "knn_predicted_test_labels=knn.predict(X_test)"
   ]
  },
  {
   "cell_type": "code",
   "execution_count": 339,
   "metadata": {
    "_uuid": "0b15a28a1dbf6734c24fd68a0feae5de71ccd2ce"
   },
   "outputs": [
    {
     "data": {
      "image/png": "[encoded data removed]",
      "text/plain": [
       "<Figure size 360x360 with 1 Axes>"
      ]
     },
     "metadata": {
      "needs_background": "light"
     },
     "output_type": "display_data"
    }
   ],
   "source": [
    "#plot the different testing samples (using only the first 2 features in a 2D-space)\n",
    "# and color them based on their prediccted class\n",
    "plt.figure(figsize=(5,5))\n",
    "plt.scatter(X_test[:, 0], X_test[:, 1], c=knn_predicted_test_labels, label =['Fraud', 'Non-Fraud'])\n",
    "plt.title(\"Test Samples Reduced to 2D\")\n",
    "plt.xlabel('V1')\n",
    "plt.ylabel('V2')\n",
    "plt.show()\n"
   ]
  },
  {
   "cell_type": "markdown",
   "metadata": {},
   "source": [
    "## Model Evaluation"
   ]
  },
  {
   "cell_type": "code",
   "execution_count": 334,
   "metadata": {
    "_uuid": "1e5b0a80f48c92cb3f354f6e8e00698d5353c6ae"
   },
   "outputs": [],
   "source": [
    "#scoring knn\n",
    "knn_accuracy_score  = accuracy_score(y_test,knn_predicted_test_labels)\n",
    "knn_precison_score  = precision_score(y_test,knn_predicted_test_labels)\n",
    "knn_recall_score    = recall_score(y_test,knn_predicted_test_labels)\n",
    "knn_f1_score        = f1_score(y_test,knn_predicted_test_labels)\n"
   ]
  },
  {
   "cell_type": "code",
   "execution_count": 335,
   "metadata": {
    "_uuid": "812e5dcb69d9a9a4f6a5aee28daa41c461e313f1"
   },
   "outputs": [
    {
     "name": "stdout",
     "output_type": "stream",
     "text": [
      "\n",
      "K-Nearest Neighbours\n",
      "Scores\n",
      "Accuracy --> 0.9289340101522843\n",
      "Precison --> 0.989010989010989\n",
      "Recall --> 0.8737864077669902\n",
      "F1 --> 0.9278350515463917\n",
      "              precision    recall  f1-score   support\n",
      "\n",
      "           0       0.88      0.99      0.93        94\n",
      "           1       0.99      0.87      0.93       103\n",
      "\n",
      "    accuracy                           0.93       197\n",
      "   macro avg       0.93      0.93      0.93       197\n",
      "weighted avg       0.94      0.93      0.93       197\n",
      "\n"
     ]
    }
   ],
   "source": [
    "#printing\n",
    "print(\"\")\n",
    "print(\"K-Nearest Neighbours\")\n",
    "print(\"Scores\")\n",
    "print(\"Accuracy -->\",knn_accuracy_score)\n",
    "print(\"Precison -->\",knn_precison_score)\n",
    "print(\"Recall -->\",knn_recall_score)\n",
    "print(\"F1 -->\",knn_f1_score)\n",
    "\n",
    "print(classification_report(y_test,knn_predicted_test_labels))"
   ]
  },
  {
   "cell_type": "code",
   "execution_count": 336,
   "metadata": {},
   "outputs": [
    {
     "name": "stderr",
     "output_type": "stream",
     "text": [
      "C:\\ProgramData\\Anaconda3\\lib\\site-packages\\sklearn\\utils\\deprecation.py:87: FutureWarning: Function plot_confusion_matrix is deprecated; Function `plot_confusion_matrix` is deprecated in 1.0 and will be removed in 1.2. Use one of the class methods: ConfusionMatrixDisplay.from_predictions or ConfusionMatrixDisplay.from_estimator.\n",
      "  warnings.warn(msg, category=FutureWarning)\n"
     ]
    },
    {
     "data": {
      "text/plain": [
       "<sklearn.metrics._plot.confusion_matrix.ConfusionMatrixDisplay at 0x172028d67b8>"
      ]
     },
     "execution_count": 336,
     "metadata": {},
     "output_type": "execute_result"
    },
    {
     "data": {
      "image/png": "[encoded data removed]",
      "text/plain": [
       "<Figure size 1008x576 with 2 Axes>"
      ]
     },
     "metadata": {
      "needs_background": "light"
     },
     "output_type": "display_data"
    }
   ],
   "source": [
    "#plot confusion matrix\n",
    "from sklearn.metrics import plot_confusion_matrix\n",
    "plot_confusion_matrix(knn, X_test, y_test, display_labels =np.array(['Fraud', 'Non Fraud']))\n"
   ]
  },
  {
   "cell_type": "code",
   "execution_count": 337,
   "metadata": {
    "_uuid": "edff3eb07c6c7b32e74a88150d714c6edac469ef"
   },
   "outputs": [],
   "source": [
    "# save the model to disk\n",
    "import pickle\n",
    "filename = 'finalized_model.pkl'\n",
    "f = open(filename, 'wb')\n",
    "\n",
    "pickle.dump(knn, f)"
   ]
  },
  {
   "cell_type": "code",
   "execution_count": 338,
   "metadata": {
    "_uuid": "9e7e041cf252dc24ea2e6333fc3dc4e40c43bade"
   },
   "outputs": [],
   "source": [
    "# load the model from disk\n",
    "filename = 'finalized_model.pkl'\n",
    "f = open(filename, 'rb')\n",
    "knn = pickle.load(f)"
   ]
  }
 ],
 "metadata": {
  "kernelspec": {
   "display_name": "Python 3 (ipykernel)",
   "language": "python",
   "name": "python3"
  },
  "language_info": {
   "codemirror_mode": {
    "name": "ipython",
    "version": 3
   },
   "file_extension": ".py",
   "mimetype": "text/x-python",
   "name": "python",
   "nbconvert_exporter": "python",
   "pygments_lexer": "ipython3",
   "version": "3.7.1"
  }
 },
 "nbformat": 4,
 "nbformat_minor": 1
}
