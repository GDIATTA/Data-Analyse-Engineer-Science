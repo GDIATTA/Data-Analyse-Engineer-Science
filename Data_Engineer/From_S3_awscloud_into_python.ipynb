{
 "cells": [
  {
   "cell_type": "code",
   "execution_count": 34,
   "metadata": {},
   "outputs": [],
   "source": [
    "import boto3"
   ]
  },
  {
   "cell_type": "code",
   "execution_count": 35,
   "metadata": {},
   "outputs": [],
   "source": [
    "# Créez un client S3\n",
    "s3_client = boto3.client('s3')"
   ]
  },
  {
   "cell_type": "code",
   "execution_count": 36,
   "metadata": {},
   "outputs": [
    {
     "name": "stdout",
     "output_type": "stream",
     "text": [
      "Bucket Name: firstbucketgauss\n",
      "Bucket Name: outputfirst\n"
     ]
    }
   ],
   "source": [
    "# Utilisez le client S3 pour effectuer des opérations\n",
    "buckets = s3_client.list_buckets()\n",
    "for bucket in buckets['Buckets']:\n",
    "    print(f'Bucket Name: {bucket[\"Name\"]}')"
   ]
  },
  {
   "cell_type": "markdown",
   "metadata": {},
   "source": [
    "# Uploading files"
   ]
  },
  {
   "cell_type": "code",
   "execution_count": 37,
   "metadata": {},
   "outputs": [],
   "source": [
    "def upload_files(file_name, bucket, object_name=None, args=None):\n",
    "    \"\"\"\"\n",
    "    file_name : name of file on local\n",
    "    bucket: bucket name\n",
    "    object_name: name of file on S3\n",
    "    args: custom args\n",
    "    \"\"\"\n",
    "\n",
    "    if object_name is None:\n",
    "        object_name = file_name\n",
    "\n",
    "    response = s3_client.upload_file(file_name, bucket, object_name, ExtraArgs = args)\n",
    "\n",
    "    print(response)\n"
   ]
  },
  {
   "cell_type": "code",
   "execution_count": 38,
   "metadata": {},
   "outputs": [
    {
     "name": "stdout",
     "output_type": "stream",
     "text": [
      "None\n"
     ]
    }
   ],
   "source": [
    "upload_files('customers.csv', 'firstbucketgauss')"
   ]
  },
  {
   "cell_type": "markdown",
   "metadata": {},
   "source": [
    "# Download files from S3"
   ]
  },
  {
   "cell_type": "code",
   "execution_count": 39,
   "metadata": {},
   "outputs": [
    {
     "data": {
      "text/plain": [
       "[s3.Bucket(name='firstbucketgauss'), s3.Bucket(name='outputfirst')]"
      ]
     },
     "execution_count": 39,
     "metadata": {},
     "output_type": "execute_result"
    }
   ],
   "source": [
    "s3 = boto3.resource('s3')\n",
    "list(s3.buckets.all())"
   ]
  },
  {
   "cell_type": "code",
   "execution_count": 40,
   "metadata": {},
   "outputs": [],
   "source": [
    "bucket = s3.Bucket('firstbucketgauss')"
   ]
  },
  {
   "cell_type": "code",
   "execution_count": 42,
   "metadata": {},
   "outputs": [],
   "source": [
    "files = list(bucket.objects.all())"
   ]
  },
  {
   "cell_type": "code",
   "execution_count": 44,
   "metadata": {},
   "outputs": [
    {
     "data": {
      "text/plain": [
       "[s3.ObjectSummary(bucket_name='firstbucketgauss', key='50_Startups.csv'),\n",
       " s3.ObjectSummary(bucket_name='firstbucketgauss', key='Unsaved/2023/10/30/10324967-8eae-4ee3-9e61-44b83268112e.csv'),\n",
       " s3.ObjectSummary(bucket_name='firstbucketgauss', key='Unsaved/2023/10/30/10324967-8eae-4ee3-9e61-44b83268112e.csv.metadata'),\n",
       " s3.ObjectSummary(bucket_name='firstbucketgauss', key='Unsaved/2023/10/30/16f77144-904b-41af-b7e9-4cdf9635babd.txt'),\n",
       " s3.ObjectSummary(bucket_name='firstbucketgauss', key='Unsaved/2023/10/30/2b2da7b5-982c-4975-b693-d93bf92cea66.txt'),\n",
       " s3.ObjectSummary(bucket_name='firstbucketgauss', key='Unsaved/2023/10/30/48d00ea3-2ae9-45cc-b210-9f70f38f5516.txt'),\n",
       " s3.ObjectSummary(bucket_name='firstbucketgauss', key='Unsaved/2023/10/30/5fe836b7-3acc-4fdf-9f14-324bba3d4039.txt'),\n",
       " s3.ObjectSummary(bucket_name='firstbucketgauss', key='Unsaved/2023/10/30/7276e4f4-56f8-4a5f-b406-2a19d72f0588.txt'),\n",
       " s3.ObjectSummary(bucket_name='firstbucketgauss', key='Unsaved/2023/10/30/9661e992-52e8-4c9e-9fd9-030ef5c1abd8.csv'),\n",
       " s3.ObjectSummary(bucket_name='firstbucketgauss', key='Unsaved/2023/10/30/9661e992-52e8-4c9e-9fd9-030ef5c1abd8.csv.metadata'),\n",
       " s3.ObjectSummary(bucket_name='firstbucketgauss', key='Unsaved/2023/10/30/ad5f016f-5993-488f-95c1-1f4e4924c017.csv'),\n",
       " s3.ObjectSummary(bucket_name='firstbucketgauss', key='Unsaved/2023/10/30/ad5f016f-5993-488f-95c1-1f4e4924c017.csv.metadata'),\n",
       " s3.ObjectSummary(bucket_name='firstbucketgauss', key='Unsaved/2023/10/30/b898596b-04bf-42b9-ac83-bfedabc9139c.csv'),\n",
       " s3.ObjectSummary(bucket_name='firstbucketgauss', key='Unsaved/2023/10/30/b898596b-04bf-42b9-ac83-bfedabc9139c.csv.metadata'),\n",
       " s3.ObjectSummary(bucket_name='firstbucketgauss', key='Unsaved/2023/10/30/c40c872e-f4ba-458a-b6e7-5c9784ef3dab.txt'),\n",
       " s3.ObjectSummary(bucket_name='firstbucketgauss', key='Unsaved/2023/10/30/c4d4596b-c5bf-4490-a398-05ab43ff137a.csv'),\n",
       " s3.ObjectSummary(bucket_name='firstbucketgauss', key='Unsaved/2023/10/30/c4d4596b-c5bf-4490-a398-05ab43ff137a.csv.metadata'),\n",
       " s3.ObjectSummary(bucket_name='firstbucketgauss', key='Unsaved/2023/10/30/cf3b9f59-963f-4dd3-91cd-8837ed6d7c5f.txt'),\n",
       " s3.ObjectSummary(bucket_name='firstbucketgauss', key='Unsaved/2023/10/30/d91ce1cd-21fe-4f7b-b5fa-0d9b5bd68abe.csv'),\n",
       " s3.ObjectSummary(bucket_name='firstbucketgauss', key='Unsaved/2023/10/30/d91ce1cd-21fe-4f7b-b5fa-0d9b5bd68abe.csv.metadata'),\n",
       " s3.ObjectSummary(bucket_name='firstbucketgauss', key='Unsaved/2023/10/30/efd64f98-4def-4b6e-85fa-e58fdaffcafa.csv'),\n",
       " s3.ObjectSummary(bucket_name='firstbucketgauss', key='Unsaved/2023/10/30/efd64f98-4def-4b6e-85fa-e58fdaffcafa.csv.metadata'),\n",
       " s3.ObjectSummary(bucket_name='firstbucketgauss', key='Unsaved/2023/10/30/f0b5c1f3-9cbb-4627-83ef-c23e5ff1d351.txt'),\n",
       " s3.ObjectSummary(bucket_name='firstbucketgauss', key='Unsaved/2023/10/30/f1e98da2-58f3-42e4-adf2-5e0f6d3b0081.txt'),\n",
       " s3.ObjectSummary(bucket_name='firstbucketgauss', key='Unsaved/2023/10/30/f803e356-f784-4063-a694-94a79d3f7b8a.txt'),\n",
       " s3.ObjectSummary(bucket_name='firstbucketgauss', key='Unsaved/2023/10/30/fea818ec-f6c5-40d5-95f7-d42be7ef6d9d.txt'),\n",
       " s3.ObjectSummary(bucket_name='firstbucketgauss', key='bank.csv'),\n",
       " s3.ObjectSummary(bucket_name='firstbucketgauss', key='cars.csv'),\n",
       " s3.ObjectSummary(bucket_name='firstbucketgauss', key='customers.csv')]"
      ]
     },
     "execution_count": 44,
     "metadata": {},
     "output_type": "execute_result"
    }
   ],
   "source": [
    "files"
   ]
  },
  {
   "cell_type": "code",
   "execution_count": 45,
   "metadata": {},
   "outputs": [
    {
     "data": {
      "text/plain": [
       "'50_Startups.csv'"
      ]
     },
     "execution_count": 45,
     "metadata": {},
     "output_type": "execute_result"
    }
   ],
   "source": [
    "files[0].key"
   ]
  },
  {
   "cell_type": "code",
   "execution_count": 2,
   "metadata": {},
   "outputs": [
    {
     "name": "stdout",
     "output_type": "stream",
     "text": [
      "Collecting awswrangler\n",
      "  Obtaining dependency information for awswrangler from https://files.pythonhosted.org/packages/e4/7c/541cb80e2e9c62bdd3773cd7b9ce907e3b955191e6d2238c13dd86eab8ad/awswrangler-3.4.1-py3-none-any.whl.metadata\n",
      "  Downloading awswrangler-3.4.1-py3-none-any.whl.metadata (23 kB)\n",
      "Requirement already satisfied: boto3<2.0.0,>=1.20.32 in c:\\users\\lenovo\\appdata\\local\\packages\\pythonsoftwarefoundation.python.3.11_qbz5n2kfra8p0\\localcache\\local-packages\\python311\\site-packages (from awswrangler) (1.28.76)\n",
      "Requirement already satisfied: botocore<2.0.0,>=1.23.32 in c:\\users\\lenovo\\appdata\\local\\packages\\pythonsoftwarefoundation.python.3.11_qbz5n2kfra8p0\\localcache\\local-packages\\python311\\site-packages (from awswrangler) (1.31.76)\n",
      "Collecting numpy<2.0,>=1.18 (from awswrangler)\n",
      "  Obtaining dependency information for numpy<2.0,>=1.18 from https://files.pythonhosted.org/packages/82/0f/3f712cd84371636c5375d2dd70e7514d264cec6bdfc3d7997a4236e9f948/numpy-1.26.1-cp311-cp311-win_amd64.whl.metadata\n",
      "  Using cached numpy-1.26.1-cp311-cp311-win_amd64.whl.metadata (61 kB)\n",
      "Requirement already satisfied: packaging<24.0,>=21.1 in c:\\users\\lenovo\\appdata\\local\\packages\\pythonsoftwarefoundation.python.3.11_qbz5n2kfra8p0\\localcache\\local-packages\\python311\\site-packages (from awswrangler) (23.2)\n",
      "Collecting pandas<3.0.0,>=1.2.0 (from awswrangler)\n",
      "  Obtaining dependency information for pandas<3.0.0,>=1.2.0 from https://files.pythonhosted.org/packages/db/3e/db3e98911b5da217d1e3f85b6e091448cb8f8be674bdaff3c0ec0dd855e0/pandas-2.1.2-cp311-cp311-win_amd64.whl.metadata\n",
      "  Using cached pandas-2.1.2-cp311-cp311-win_amd64.whl.metadata (18 kB)\n",
      "Collecting pyarrow>=7.0.0 (from awswrangler)\n",
      "  Obtaining dependency information for pyarrow>=7.0.0 from https://files.pythonhosted.org/packages/8c/7b/dc6a9ec76880a3230b888dbd89471f6813701e522827225055dd633b733b/pyarrow-14.0.0-cp311-cp311-win_amd64.whl.metadata\n",
      "  Downloading pyarrow-14.0.0-cp311-cp311-win_amd64.whl.metadata (3.1 kB)\n",
      "Collecting typing-extensions<5.0.0,>=4.4.0 (from awswrangler)\n",
      "  Obtaining dependency information for typing-extensions<5.0.0,>=4.4.0 from https://files.pythonhosted.org/packages/24/21/7d397a4b7934ff4028987914ac1044d3b7d52712f30e2ac7a2ae5bc86dd0/typing_extensions-4.8.0-py3-none-any.whl.metadata\n",
      "  Downloading typing_extensions-4.8.0-py3-none-any.whl.metadata (3.0 kB)\n",
      "Requirement already satisfied: jmespath<2.0.0,>=0.7.1 in c:\\users\\lenovo\\appdata\\local\\packages\\pythonsoftwarefoundation.python.3.11_qbz5n2kfra8p0\\localcache\\local-packages\\python311\\site-packages (from boto3<2.0.0,>=1.20.32->awswrangler) (1.0.1)\n",
      "Requirement already satisfied: s3transfer<0.8.0,>=0.7.0 in c:\\users\\lenovo\\appdata\\local\\packages\\pythonsoftwarefoundation.python.3.11_qbz5n2kfra8p0\\localcache\\local-packages\\python311\\site-packages (from boto3<2.0.0,>=1.20.32->awswrangler) (0.7.0)\n",
      "Requirement already satisfied: python-dateutil<3.0.0,>=2.1 in c:\\users\\lenovo\\appdata\\local\\packages\\pythonsoftwarefoundation.python.3.11_qbz5n2kfra8p0\\localcache\\local-packages\\python311\\site-packages (from botocore<2.0.0,>=1.23.32->awswrangler) (2.8.2)\n",
      "Requirement already satisfied: urllib3<2.1,>=1.25.4 in c:\\users\\lenovo\\appdata\\local\\packages\\pythonsoftwarefoundation.python.3.11_qbz5n2kfra8p0\\localcache\\local-packages\\python311\\site-packages (from botocore<2.0.0,>=1.23.32->awswrangler) (2.0.7)\n",
      "Collecting pytz>=2020.1 (from pandas<3.0.0,>=1.2.0->awswrangler)\n",
      "  Obtaining dependency information for pytz>=2020.1 from https://files.pythonhosted.org/packages/32/4d/aaf7eff5deb402fd9a24a1449a8119f00d74ae9c2efa79f8ef9994261fc2/pytz-2023.3.post1-py2.py3-none-any.whl.metadata\n",
      "  Using cached pytz-2023.3.post1-py2.py3-none-any.whl.metadata (22 kB)\n",
      "Collecting tzdata>=2022.1 (from pandas<3.0.0,>=1.2.0->awswrangler)\n",
      "  Using cached tzdata-2023.3-py2.py3-none-any.whl (341 kB)\n",
      "Requirement already satisfied: six>=1.5 in c:\\users\\lenovo\\appdata\\local\\packages\\pythonsoftwarefoundation.python.3.11_qbz5n2kfra8p0\\localcache\\local-packages\\python311\\site-packages (from python-dateutil<3.0.0,>=2.1->botocore<2.0.0,>=1.23.32->awswrangler) (1.16.0)\n",
      "Downloading awswrangler-3.4.1-py3-none-any.whl (396 kB)\n",
      "   ---------------------------------------- 0.0/396.8 kB ? eta -:--:--\n",
      "   ---------------------------------------- 0.0/396.8 kB ? eta -:--:--\n",
      "   ---------------------------------------- 0.0/396.8 kB ? eta -:--:--\n",
      "   ---------------------------------------- 0.0/396.8 kB ? eta -:--:--\n",
      "   - -------------------------------------- 10.2/396.8 kB ? eta -:--:--\n",
      "   --- ----------------------------------- 30.7/396.8 kB 660.6 kB/s eta 0:00:01\n",
      "   --- ----------------------------------- 30.7/396.8 kB 660.6 kB/s eta 0:00:01\n",
      "   --- ----------------------------------- 30.7/396.8 kB 660.6 kB/s eta 0:00:01\n",
      "   ----- --------------------------------- 51.2/396.8 kB 201.8 kB/s eta 0:00:02\n",
      "   ------ -------------------------------- 61.4/396.8 kB 234.9 kB/s eta 0:00:02\n",
      "   ------- ------------------------------- 71.7/396.8 kB 218.6 kB/s eta 0:00:02\n",
      "   ------- ------------------------------- 71.7/396.8 kB 218.6 kB/s eta 0:00:02\n",
      "   ---------- --------------------------- 112.6/396.8 kB 273.1 kB/s eta 0:00:02\n",
      "   ----------- -------------------------- 122.9/396.8 kB 277.4 kB/s eta 0:00:01\n",
      "   ------------- ------------------------ 143.4/396.8 kB 293.9 kB/s eta 0:00:01\n",
      "   -------------- ----------------------- 153.6/396.8 kB 296.2 kB/s eta 0:00:01\n",
      "   ------------------ ------------------- 194.6/396.8 kB 328.0 kB/s eta 0:00:01\n",
      "   ------------------- ------------------ 204.8/396.8 kB 328.1 kB/s eta 0:00:01\n",
      "   --------------------- ---------------- 225.3/396.8 kB 353.1 kB/s eta 0:00:01\n",
      "   ---------------------- --------------- 235.5/396.8 kB 343.4 kB/s eta 0:00:01\n",
      "   -------------------------- ----------- 276.5/396.8 kB 370.8 kB/s eta 0:00:01\n",
      "   --------------------------- ---------- 286.7/396.8 kB 368.6 kB/s eta 0:00:01\n",
      "   ----------------------------- -------- 307.2/396.8 kB 373.1 kB/s eta 0:00:01\n",
      "   ------------------------------ ------- 317.4/396.8 kB 364.4 kB/s eta 0:00:01\n",
      "   -------------------------------- ----- 337.9/396.8 kB 374.5 kB/s eta 0:00:01\n",
      "   ----------------------------------- -- 368.6/396.8 kB 382.5 kB/s eta 0:00:01\n",
      "   -------------------------------------  389.1/396.8 kB 397.6 kB/s eta 0:00:01\n",
      "   -------------------------------------  389.1/396.8 kB 397.6 kB/s eta 0:00:01\n",
      "   -------------------------------------- 396.8/396.8 kB 374.9 kB/s eta 0:00:00\n",
      "Using cached numpy-1.26.1-cp311-cp311-win_amd64.whl (15.8 MB)\n",
      "Using cached pandas-2.1.2-cp311-cp311-win_amd64.whl (10.6 MB)\n",
      "Downloading pyarrow-14.0.0-cp311-cp311-win_amd64.whl (24.6 MB)\n",
      "   ---------------------------------------- 0.0/24.6 MB ? eta -:--:--\n",
      "   ---------------------------------------- 0.0/24.6 MB ? eta -:--:--\n",
      "   ---------------------------------------- 0.0/24.6 MB ? eta -:--:--\n",
      "   ---------------------------------------- 0.0/24.6 MB 660.6 kB/s eta 0:00:38\n",
      "   ---------------------------------------- 0.1/24.6 MB 656.4 kB/s eta 0:00:38\n",
      "   ---------------------------------------- 0.1/24.6 MB 491.5 kB/s eta 0:00:50\n",
      "   ---------------------------------------- 0.1/24.6 MB 595.3 kB/s eta 0:00:42\n",
      "   ---------------------------------------- 0.1/24.6 MB 554.9 kB/s eta 0:00:45\n",
      "   ---------------------------------------- 0.2/24.6 MB 573.4 kB/s eta 0:00:43\n",
      "   ---------------------------------------- 0.2/24.6 MB 615.9 kB/s eta 0:00:40\n",
      "   ---------------------------------------- 0.2/24.6 MB 624.4 kB/s eta 0:00:39\n",
      "   ---------------------------------------- 0.2/24.6 MB 624.4 kB/s eta 0:00:39\n",
      "   ---------------------------------------- 0.2/24.6 MB 558.1 kB/s eta 0:00:44\n",
      "   ---------------------------------------- 0.3/24.6 MB 589.5 kB/s eta 0:00:42\n",
      "   ---------------------------------------- 0.3/24.6 MB 589.5 kB/s eta 0:00:42\n",
      "    --------------------------------------- 0.3/24.6 MB 561.6 kB/s eta 0:00:44\n",
      "    --------------------------------------- 0.3/24.6 MB 568.9 kB/s eta 0:00:43\n",
      "    --------------------------------------- 0.4/24.6 MB 559.1 kB/s eta 0:00:44\n",
      "    --------------------------------------- 0.4/24.6 MB 579.0 kB/s eta 0:00:42\n",
      "    --------------------------------------- 0.4/24.6 MB 579.0 kB/s eta 0:00:42\n",
      "    --------------------------------------- 0.4/24.6 MB 521.4 kB/s eta 0:00:47\n",
      "    --------------------------------------- 0.4/24.6 MB 537.6 kB/s eta 0:00:45\n",
      "    --------------------------------------- 0.5/24.6 MB 533.8 kB/s eta 0:00:46\n",
      "    --------------------------------------- 0.5/24.6 MB 553.8 kB/s eta 0:00:44\n",
      "    --------------------------------------- 0.6/24.6 MB 589.5 kB/s eta 0:00:41\n",
      "   - -------------------------------------- 0.6/24.6 MB 644.5 kB/s eta 0:00:38\n",
      "   - -------------------------------------- 0.7/24.6 MB 665.5 kB/s eta 0:00:36\n",
      "   - -------------------------------------- 0.7/24.6 MB 665.1 kB/s eta 0:00:36\n",
      "   - -------------------------------------- 0.7/24.6 MB 664.6 kB/s eta 0:00:36\n",
      "   - -------------------------------------- 0.8/24.6 MB 690.9 kB/s eta 0:00:35\n",
      "   - -------------------------------------- 0.8/24.6 MB 680.9 kB/s eta 0:00:35\n",
      "   - -------------------------------------- 0.8/24.6 MB 671.7 kB/s eta 0:00:36\n",
      "   - -------------------------------------- 0.9/24.6 MB 687.5 kB/s eta 0:00:35\n",
      "   - -------------------------------------- 0.9/24.6 MB 694.1 kB/s eta 0:00:35\n",
      "   - -------------------------------------- 1.0/24.6 MB 700.2 kB/s eta 0:00:34\n",
      "   - -------------------------------------- 1.0/24.6 MB 706.5 kB/s eta 0:00:34\n",
      "   - -------------------------------------- 1.0/24.6 MB 711.8 kB/s eta 0:00:34\n",
      "   - -------------------------------------- 1.1/24.6 MB 730.9 kB/s eta 0:00:33\n",
      "   - -------------------------------------- 1.1/24.6 MB 734.7 kB/s eta 0:00:32\n",
      "   -- ------------------------------------- 1.2/24.6 MB 764.5 kB/s eta 0:00:31\n",
      "   -- ------------------------------------- 1.3/24.6 MB 780.0 kB/s eta 0:00:30\n",
      "   -- ------------------------------------- 1.3/24.6 MB 790.0 kB/s eta 0:00:30\n",
      "   -- ------------------------------------- 1.4/24.6 MB 786.3 kB/s eta 0:00:30\n",
      "   -- ------------------------------------- 1.4/24.6 MB 801.6 kB/s eta 0:00:29\n",
      "   -- ------------------------------------- 1.4/24.6 MB 804.9 kB/s eta 0:00:29\n",
      "   -- ------------------------------------- 1.5/24.6 MB 810.8 kB/s eta 0:00:29\n",
      "   -- ------------------------------------- 1.6/24.6 MB 866.4 kB/s eta 0:00:27\n",
      "   -- ------------------------------------- 1.7/24.6 MB 871.8 kB/s eta 0:00:27\n",
      "   -- ------------------------------------- 1.8/24.6 MB 899.7 kB/s eta 0:00:26\n",
      "   -- ------------------------------------- 1.8/24.6 MB 906.2 kB/s eta 0:00:26\n",
      "   --- ------------------------------------ 1.9/24.6 MB 903.4 kB/s eta 0:00:26\n",
      "   --- ------------------------------------ 1.9/24.6 MB 914.5 kB/s eta 0:00:25\n",
      "   --- ------------------------------------ 1.9/24.6 MB 917.2 kB/s eta 0:00:25\n",
      "   --- ------------------------------------ 2.0/24.6 MB 895.8 kB/s eta 0:00:26\n",
      "   --- ------------------------------------ 2.0/24.6 MB 907.2 kB/s eta 0:00:25\n",
      "   --- ------------------------------------ 2.1/24.6 MB 914.8 kB/s eta 0:00:25\n",
      "   --- ------------------------------------ 2.1/24.6 MB 907.6 kB/s eta 0:00:25\n",
      "   --- ------------------------------------ 2.2/24.6 MB 906.8 kB/s eta 0:00:25\n",
      "   --- ------------------------------------ 2.2/24.6 MB 912.2 kB/s eta 0:00:25\n",
      "   --- ------------------------------------ 2.3/24.6 MB 928.2 kB/s eta 0:00:25\n",
      "   --- ------------------------------------ 2.3/24.6 MB 941.5 kB/s eta 0:00:24\n",
      "   --- ------------------------------------ 2.4/24.6 MB 942.7 kB/s eta 0:00:24\n",
      "   ---- ----------------------------------- 2.5/24.6 MB 965.2 kB/s eta 0:00:23\n",
      "   ---- ----------------------------------- 2.6/24.6 MB 979.1 kB/s eta 0:00:23\n",
      "   ---- ----------------------------------- 2.7/24.6 MB 1.0 MB/s eta 0:00:22\n",
      "   ---- ----------------------------------- 2.8/24.6 MB 1.0 MB/s eta 0:00:22\n",
      "   ---- ----------------------------------- 2.9/24.6 MB 1.1 MB/s eta 0:00:21\n",
      "   ---- ----------------------------------- 3.0/24.6 MB 1.1 MB/s eta 0:00:20\n",
      "   ----- ---------------------------------- 3.1/24.6 MB 1.1 MB/s eta 0:00:20\n",
      "   ----- ---------------------------------- 3.3/24.6 MB 1.1 MB/s eta 0:00:19\n",
      "   ----- ---------------------------------- 3.6/24.6 MB 1.2 MB/s eta 0:00:18\n",
      "   ------ --------------------------------- 3.8/24.6 MB 1.3 MB/s eta 0:00:17\n",
      "   ------ --------------------------------- 3.9/24.6 MB 1.3 MB/s eta 0:00:16\n",
      "   ------ --------------------------------- 4.3/24.6 MB 1.4 MB/s eta 0:00:15\n",
      "   ------- -------------------------------- 4.5/24.6 MB 1.5 MB/s eta 0:00:14\n",
      "   ------- -------------------------------- 4.8/24.6 MB 1.5 MB/s eta 0:00:13\n",
      "   -------- ------------------------------- 5.0/24.6 MB 1.6 MB/s eta 0:00:13\n",
      "   -------- ------------------------------- 5.3/24.6 MB 1.6 MB/s eta 0:00:12\n",
      "   -------- ------------------------------- 5.5/24.6 MB 1.7 MB/s eta 0:00:12\n",
      "   --------- ------------------------------ 5.8/24.6 MB 1.8 MB/s eta 0:00:11\n",
      "   --------- ------------------------------ 5.9/24.6 MB 1.8 MB/s eta 0:00:11\n",
      "   ---------- ----------------------------- 6.2/24.6 MB 1.8 MB/s eta 0:00:11\n",
      "   ---------- ----------------------------- 6.4/24.6 MB 1.9 MB/s eta 0:00:10\n",
      "   ---------- ----------------------------- 6.6/24.6 MB 1.9 MB/s eta 0:00:10\n",
      "   ----------- ---------------------------- 6.8/24.6 MB 1.9 MB/s eta 0:00:10\n",
      "   ----------- ---------------------------- 7.0/24.6 MB 2.0 MB/s eta 0:00:09\n",
      "   ----------- ---------------------------- 7.2/24.6 MB 2.0 MB/s eta 0:00:09\n",
      "   ------------ --------------------------- 7.4/24.6 MB 2.1 MB/s eta 0:00:09\n",
      "   ------------ --------------------------- 7.6/24.6 MB 2.1 MB/s eta 0:00:09\n",
      "   ------------ --------------------------- 7.9/24.6 MB 2.1 MB/s eta 0:00:08\n",
      "   ------------- -------------------------- 8.1/24.6 MB 2.2 MB/s eta 0:00:08\n",
      "   ------------- -------------------------- 8.4/24.6 MB 2.2 MB/s eta 0:00:08\n",
      "   -------------- ------------------------- 8.6/24.6 MB 2.3 MB/s eta 0:00:08\n",
      "   -------------- ------------------------- 8.8/24.6 MB 2.3 MB/s eta 0:00:07\n",
      "   -------------- ------------------------- 9.1/24.6 MB 2.3 MB/s eta 0:00:07\n",
      "   --------------- ------------------------ 9.3/24.6 MB 2.4 MB/s eta 0:00:07\n",
      "   --------------- ------------------------ 9.6/24.6 MB 2.4 MB/s eta 0:00:07\n",
      "   --------------- ------------------------ 9.8/24.6 MB 2.4 MB/s eta 0:00:07\n",
      "   ---------------- ----------------------- 10.1/24.6 MB 2.5 MB/s eta 0:00:06\n",
      "   ---------------- ----------------------- 10.3/24.6 MB 2.5 MB/s eta 0:00:06\n",
      "   ----------------- ---------------------- 10.5/24.6 MB 2.8 MB/s eta 0:00:06\n",
      "   ----------------- ---------------------- 10.7/24.6 MB 3.1 MB/s eta 0:00:05\n",
      "   ----------------- ---------------------- 11.0/24.6 MB 3.3 MB/s eta 0:00:05\n",
      "   ------------------ --------------------- 11.2/24.6 MB 3.6 MB/s eta 0:00:04\n",
      "   ------------------ --------------------- 11.4/24.6 MB 3.8 MB/s eta 0:00:04\n",
      "   ------------------- -------------------- 11.7/24.6 MB 4.0 MB/s eta 0:00:04\n",
      "   ------------------- -------------------- 11.9/24.6 MB 4.2 MB/s eta 0:00:04\n",
      "   ------------------- -------------------- 12.2/24.6 MB 4.4 MB/s eta 0:00:03\n",
      "   -------------------- ------------------- 12.4/24.6 MB 4.9 MB/s eta 0:00:03\n",
      "   -------------------- ------------------- 12.6/24.6 MB 5.0 MB/s eta 0:00:03\n",
      "   -------------------- ------------------- 12.9/24.6 MB 5.3 MB/s eta 0:00:03\n",
      "   --------------------- ------------------ 13.1/24.6 MB 5.5 MB/s eta 0:00:03\n",
      "   --------------------- ------------------ 13.4/24.6 MB 5.6 MB/s eta 0:00:03\n",
      "   ---------------------- ----------------- 13.6/24.6 MB 5.6 MB/s eta 0:00:02\n",
      "   ---------------------- ----------------- 13.8/24.6 MB 5.6 MB/s eta 0:00:02\n",
      "   ---------------------- ----------------- 14.1/24.6 MB 5.7 MB/s eta 0:00:02\n",
      "   ----------------------- ---------------- 14.3/24.6 MB 5.7 MB/s eta 0:00:02\n",
      "   ----------------------- ---------------- 14.5/24.6 MB 5.6 MB/s eta 0:00:02\n",
      "   ------------------------ --------------- 14.8/24.6 MB 5.6 MB/s eta 0:00:02\n",
      "   ------------------------ --------------- 14.9/24.6 MB 5.5 MB/s eta 0:00:02\n",
      "   ------------------------ --------------- 15.1/24.6 MB 5.6 MB/s eta 0:00:02\n",
      "   ------------------------- -------------- 15.4/24.6 MB 5.6 MB/s eta 0:00:02\n",
      "   ------------------------- -------------- 15.5/24.6 MB 5.6 MB/s eta 0:00:02\n",
      "   ------------------------- -------------- 15.5/24.6 MB 5.6 MB/s eta 0:00:02\n",
      "   -------------------------- ------------- 16.0/24.6 MB 5.5 MB/s eta 0:00:02\n",
      "   -------------------------- ------------- 16.3/24.6 MB 5.6 MB/s eta 0:00:02\n",
      "   -------------------------- ------------- 16.5/24.6 MB 5.6 MB/s eta 0:00:02\n",
      "   --------------------------- ------------ 16.8/24.6 MB 5.6 MB/s eta 0:00:02\n",
      "   --------------------------- ------------ 17.0/24.6 MB 5.6 MB/s eta 0:00:02\n",
      "   ---------------------------- ----------- 17.2/24.6 MB 5.6 MB/s eta 0:00:02\n",
      "   ---------------------------- ----------- 17.4/24.6 MB 5.6 MB/s eta 0:00:02\n",
      "   ---------------------------- ----------- 17.7/24.6 MB 5.6 MB/s eta 0:00:02\n",
      "   ----------------------------- ---------- 17.9/24.6 MB 5.7 MB/s eta 0:00:02\n",
      "   ----------------------------- ---------- 18.1/24.6 MB 5.6 MB/s eta 0:00:02\n",
      "   ----------------------------- ---------- 18.3/24.6 MB 5.7 MB/s eta 0:00:02\n",
      "   ------------------------------ --------- 18.6/24.6 MB 5.7 MB/s eta 0:00:02\n",
      "   ------------------------------ --------- 18.8/24.6 MB 5.6 MB/s eta 0:00:02\n",
      "   ------------------------------- -------- 19.1/24.6 MB 5.7 MB/s eta 0:00:01\n",
      "   ------------------------------- -------- 19.3/24.6 MB 5.7 MB/s eta 0:00:01\n",
      "   ------------------------------- -------- 19.5/24.6 MB 5.7 MB/s eta 0:00:01\n",
      "   ------------------------------- -------- 19.6/24.6 MB 5.6 MB/s eta 0:00:01\n",
      "   -------------------------------- ------- 20.0/24.6 MB 5.6 MB/s eta 0:00:01\n",
      "   -------------------------------- ------- 20.2/24.6 MB 5.7 MB/s eta 0:00:01\n",
      "   --------------------------------- ------ 20.4/24.6 MB 5.7 MB/s eta 0:00:01\n",
      "   --------------------------------- ------ 20.7/24.6 MB 5.6 MB/s eta 0:00:01\n",
      "   ---------------------------------- ----- 20.9/24.6 MB 5.6 MB/s eta 0:00:01\n",
      "   ---------------------------------- ----- 21.1/24.6 MB 5.6 MB/s eta 0:00:01\n",
      "   ---------------------------------- ----- 21.4/24.6 MB 5.6 MB/s eta 0:00:01\n",
      "   ----------------------------------- ---- 21.6/24.6 MB 5.6 MB/s eta 0:00:01\n",
      "   ----------------------------------- ---- 21.8/24.6 MB 5.6 MB/s eta 0:00:01\n",
      "   ----------------------------------- ---- 22.0/24.6 MB 5.6 MB/s eta 0:00:01\n",
      "   ------------------------------------ --- 22.2/24.6 MB 5.6 MB/s eta 0:00:01\n",
      "   ------------------------------------ --- 22.5/24.6 MB 5.6 MB/s eta 0:00:01\n",
      "   ------------------------------------ --- 22.7/24.6 MB 5.6 MB/s eta 0:00:01\n",
      "   ------------------------------------- -- 22.9/24.6 MB 5.6 MB/s eta 0:00:01\n",
      "   ------------------------------------- -- 23.1/24.6 MB 5.6 MB/s eta 0:00:01\n",
      "   -------------------------------------- - 23.4/24.6 MB 5.6 MB/s eta 0:00:01\n",
      "   -------------------------------------- - 23.7/24.6 MB 5.6 MB/s eta 0:00:01\n",
      "   -------------------------------------- - 23.9/24.6 MB 5.6 MB/s eta 0:00:01\n",
      "   ---------------------------------------  24.1/24.6 MB 5.6 MB/s eta 0:00:01\n",
      "   ---------------------------------------  24.4/24.6 MB 5.6 MB/s eta 0:00:01\n",
      "   ---------------------------------------  24.6/24.6 MB 5.6 MB/s eta 0:00:01\n",
      "   ---------------------------------------  24.6/24.6 MB 5.6 MB/s eta 0:00:01\n",
      "   ---------------------------------------  24.6/24.6 MB 5.6 MB/s eta 0:00:01\n",
      "   ---------------------------------------- 24.6/24.6 MB 5.2 MB/s eta 0:00:00\n",
      "Downloading typing_extensions-4.8.0-py3-none-any.whl (31 kB)\n",
      "Using cached pytz-2023.3.post1-py2.py3-none-any.whl (502 kB)\n",
      "Installing collected packages: pytz, tzdata, typing-extensions, numpy, pyarrow, pandas, awswrangler\n",
      "Successfully installed awswrangler-3.4.1 numpy-1.26.1 pandas-2.1.2 pyarrow-14.0.0 pytz-2023.3.post1 typing-extensions-4.8.0 tzdata-2023.3\n",
      "Note: you may need to restart the kernel to use updated packages.\n"
     ]
    },
    {
     "name": "stderr",
     "output_type": "stream",
     "text": [
      "\n",
      "[notice] A new release of pip is available: 23.2.1 -> 23.3.1\n",
      "[notice] To update, run: C:\\Users\\Lenovo\\AppData\\Local\\Microsoft\\WindowsApps\\PythonSoftwareFoundation.Python.3.11_qbz5n2kfra8p0\\python.exe -m pip install --upgrade pip\n"
     ]
    }
   ],
   "source": [
    "pip install awswrangler"
   ]
  },
  {
   "cell_type": "code",
   "execution_count": 46,
   "metadata": {},
   "outputs": [],
   "source": [
    "import awswrangler as wr"
   ]
  },
  {
   "cell_type": "code",
   "execution_count": 47,
   "metadata": {},
   "outputs": [],
   "source": [
    "bucket = 'firstbucketgauss'\n",
    "file = files[0].key\n",
    "path = f\"s3://{bucket}/{file}\""
   ]
  },
  {
   "cell_type": "markdown",
   "metadata": {},
   "source": []
  },
  {
   "cell_type": "code",
   "execution_count": 48,
   "metadata": {},
   "outputs": [
    {
     "name": "stdout",
     "output_type": "stream",
     "text": [
      "    R&D Spend  Administration  Marketing Spend       State     Profit\n",
      "0   165349.20       136897.80        471784.10    New York  192261.83\n",
      "1   162597.70       151377.59        443898.53  California  191792.06\n",
      "2   153441.51       101145.55        407934.54     Florida  191050.39\n",
      "3   144372.41       118671.85        383199.62    New York  182901.99\n",
      "4   142107.34        91391.77        366168.42     Florida  166187.94\n",
      "5   131876.90        99814.71        362861.36    New York  156991.12\n",
      "6   134615.46       147198.87        127716.82  California  156122.51\n",
      "7   130298.13       145530.06        323876.68     Florida  155752.60\n",
      "8   120542.52       148718.95        311613.29    New York  152211.77\n",
      "9   123334.88       108679.17        304981.62  California  149759.96\n",
      "10  101913.08       110594.11        229160.95     Florida  146121.95\n",
      "11  100671.96        91790.61        249744.55  California  144259.40\n",
      "12   93863.75       127320.38        249839.44     Florida  141585.52\n",
      "13   91992.39       135495.07        252664.93  California  134307.35\n",
      "14  119943.24       156547.42        256512.92     Florida  132602.65\n",
      "15  114523.61       122616.84        261776.23    New York  129917.04\n",
      "16   78013.11       121597.55        264346.06  California  126992.93\n",
      "17   94657.16       145077.58        282574.31    New York  125370.37\n",
      "18   91749.16       114175.79        294919.57     Florida  124266.90\n",
      "19   86419.70       153514.11             0.00    New York  122776.86\n",
      "20   76253.86       113867.30        298664.47  California  118474.03\n",
      "21   78389.47       153773.43        299737.29    New York  111313.02\n",
      "22   73994.56       122782.75        303319.26     Florida  110352.25\n",
      "23   67532.53       105751.03        304768.73     Florida  108733.99\n",
      "24   77044.01        99281.34        140574.81    New York  108552.04\n",
      "25   64664.71       139553.16        137962.62  California  107404.34\n",
      "26   75328.87       144135.98        134050.07     Florida  105733.54\n",
      "27   72107.60       127864.55        353183.81    New York  105008.31\n",
      "28   66051.52       182645.56        118148.20     Florida  103282.38\n",
      "29   65605.48       153032.06        107138.38    New York  101004.64\n",
      "30   61994.48       115641.28         91131.24     Florida   99937.59\n",
      "31   61136.38       152701.92         88218.23    New York   97483.56\n",
      "32   63408.86       129219.61         46085.25  California   97427.84\n",
      "33   55493.95       103057.49        214634.81     Florida   96778.92\n",
      "34   46426.07       157693.92        210797.67  California   96712.80\n",
      "35   46014.02        85047.44        205517.64    New York   96479.51\n",
      "36   28663.76       127056.21        201126.82     Florida   90708.19\n",
      "37   44069.95        51283.14        197029.42  California   89949.14\n",
      "38   20229.59        65947.93        185265.10    New York   81229.06\n",
      "39   38558.51        82982.09        174999.30  California   81005.76\n",
      "40   28754.33       118546.05        172795.67  California   78239.91\n",
      "41   27892.92        84710.77        164470.71     Florida   77798.83\n",
      "42   23640.93        96189.63        148001.11  California   71498.49\n",
      "43   15505.73       127382.30         35534.17    New York   69758.98\n",
      "44   22177.74       154806.14         28334.72  California   65200.33\n",
      "45    1000.23       124153.04          1903.93    New York   64926.08\n",
      "46    1315.46       115816.21        297114.46     Florida   49490.75\n",
      "47       0.00       135426.92             0.00  California   42559.73\n",
      "48     542.05        51743.15             0.00    New York   35673.41\n",
      "49       0.00       116983.80         45173.06  California   14681.40\n"
     ]
    }
   ],
   "source": [
    "df = wr.s3.read_csv(path)\n",
    "print(df)"
   ]
  },
  {
   "cell_type": "markdown",
   "metadata": {},
   "source": [
    "# Load csv file directly into python"
   ]
  },
  {
   "cell_type": "code",
   "execution_count": 49,
   "metadata": {},
   "outputs": [],
   "source": [
    "# Load csv file directly into python\n",
    "obj = s3.Bucket('firstbucketgauss').Object('customers.csv').get()\n",
    "df1 = pd.read_csv(obj['Body'], index_col=0)"
   ]
  },
  {
   "cell_type": "code",
   "execution_count": 51,
   "metadata": {},
   "outputs": [
    {
     "data": {
      "text/html": [
       "<div>\n",
       "<style scoped>\n",
       "    .dataframe tbody tr th:only-of-type {\n",
       "        vertical-align: middle;\n",
       "    }\n",
       "\n",
       "    .dataframe tbody tr th {\n",
       "        vertical-align: top;\n",
       "    }\n",
       "\n",
       "    .dataframe thead th {\n",
       "        text-align: right;\n",
       "    }\n",
       "</style>\n",
       "<table border=\"1\" class=\"dataframe\">\n",
       "  <thead>\n",
       "    <tr style=\"text-align: right;\">\n",
       "      <th></th>\n",
       "      <th>companyName</th>\n",
       "      <th>contactName</th>\n",
       "      <th>contactTitle</th>\n",
       "      <th>address</th>\n",
       "      <th>city</th>\n",
       "      <th>region</th>\n",
       "      <th>postalCode</th>\n",
       "      <th>country</th>\n",
       "      <th>phone</th>\n",
       "      <th>fax</th>\n",
       "    </tr>\n",
       "    <tr>\n",
       "      <th>customerID</th>\n",
       "      <th></th>\n",
       "      <th></th>\n",
       "      <th></th>\n",
       "      <th></th>\n",
       "      <th></th>\n",
       "      <th></th>\n",
       "      <th></th>\n",
       "      <th></th>\n",
       "      <th></th>\n",
       "      <th></th>\n",
       "    </tr>\n",
       "  </thead>\n",
       "  <tbody>\n",
       "    <tr>\n",
       "      <th>ALFKI</th>\n",
       "      <td>Alfreds Futterkiste</td>\n",
       "      <td>Maria Anders</td>\n",
       "      <td>Sales Representative</td>\n",
       "      <td>Obere Str. 57</td>\n",
       "      <td>Berlin</td>\n",
       "      <td>NaN</td>\n",
       "      <td>12209</td>\n",
       "      <td>Germany</td>\n",
       "      <td>030-0074321</td>\n",
       "      <td>030-0076545</td>\n",
       "    </tr>\n",
       "    <tr>\n",
       "      <th>ANATR</th>\n",
       "      <td>Ana Trujillo Emparedados y helados</td>\n",
       "      <td>Ana Trujillo</td>\n",
       "      <td>Owner</td>\n",
       "      <td>Avda. de la Constitución 2222</td>\n",
       "      <td>México D.F.</td>\n",
       "      <td>NaN</td>\n",
       "      <td>5021</td>\n",
       "      <td>Mexico</td>\n",
       "      <td>(5) 555-4729</td>\n",
       "      <td>(5) 555-3745</td>\n",
       "    </tr>\n",
       "    <tr>\n",
       "      <th>ANTON</th>\n",
       "      <td>Antonio Moreno Taquería</td>\n",
       "      <td>Antonio Moreno</td>\n",
       "      <td>Owner</td>\n",
       "      <td>Mataderos  2312</td>\n",
       "      <td>México D.F.</td>\n",
       "      <td>NaN</td>\n",
       "      <td>5023</td>\n",
       "      <td>Mexico</td>\n",
       "      <td>(5) 555-3932</td>\n",
       "      <td>NaN</td>\n",
       "    </tr>\n",
       "    <tr>\n",
       "      <th>AROUT</th>\n",
       "      <td>Around the Horn</td>\n",
       "      <td>Thomas Hardy</td>\n",
       "      <td>Sales Representative</td>\n",
       "      <td>120 Hanover Sq.</td>\n",
       "      <td>London</td>\n",
       "      <td>NaN</td>\n",
       "      <td>WA1 1DP</td>\n",
       "      <td>UK</td>\n",
       "      <td>(171) 555-7788</td>\n",
       "      <td>(171) 555-6750</td>\n",
       "    </tr>\n",
       "    <tr>\n",
       "      <th>BERGS</th>\n",
       "      <td>Berglunds snabbköp</td>\n",
       "      <td>Christina Berglund</td>\n",
       "      <td>Order Administrator</td>\n",
       "      <td>Berguvsvägen  8</td>\n",
       "      <td>Luleå</td>\n",
       "      <td>NaN</td>\n",
       "      <td>S-958 22</td>\n",
       "      <td>Sweden</td>\n",
       "      <td>0921-12 34 65</td>\n",
       "      <td>0921-12 34 67</td>\n",
       "    </tr>\n",
       "  </tbody>\n",
       "</table>\n",
       "</div>"
      ],
      "text/plain": [
       "                                   companyName         contactName  \\\n",
       "customerID                                                           \n",
       "ALFKI                      Alfreds Futterkiste        Maria Anders   \n",
       "ANATR       Ana Trujillo Emparedados y helados        Ana Trujillo   \n",
       "ANTON                  Antonio Moreno Taquería      Antonio Moreno   \n",
       "AROUT                          Around the Horn        Thomas Hardy   \n",
       "BERGS                       Berglunds snabbköp  Christina Berglund   \n",
       "\n",
       "                    contactTitle                        address         city  \\\n",
       "customerID                                                                     \n",
       "ALFKI       Sales Representative                  Obere Str. 57       Berlin   \n",
       "ANATR                      Owner  Avda. de la Constitución 2222  México D.F.   \n",
       "ANTON                      Owner                Mataderos  2312  México D.F.   \n",
       "AROUT       Sales Representative                120 Hanover Sq.       London   \n",
       "BERGS        Order Administrator                Berguvsvägen  8        Luleå   \n",
       "\n",
       "           region postalCode  country           phone             fax  \n",
       "customerID                                                             \n",
       "ALFKI         NaN      12209  Germany     030-0074321     030-0076545  \n",
       "ANATR         NaN       5021   Mexico    (5) 555-4729    (5) 555-3745  \n",
       "ANTON         NaN       5023   Mexico    (5) 555-3932             NaN  \n",
       "AROUT         NaN    WA1 1DP       UK  (171) 555-7788  (171) 555-6750  \n",
       "BERGS         NaN   S-958 22   Sweden   0921-12 34 65   0921-12 34 67  "
      ]
     },
     "execution_count": 51,
     "metadata": {},
     "output_type": "execute_result"
    }
   ],
   "source": [
    "df1.head()"
   ]
  },
  {
   "cell_type": "code",
   "execution_count": 52,
   "metadata": {},
   "outputs": [
    {
     "data": {
      "text/plain": [
       "pandas.core.frame.DataFrame"
      ]
     },
     "execution_count": 52,
     "metadata": {},
     "output_type": "execute_result"
    }
   ],
   "source": [
    "type(df1)"
   ]
  },
  {
   "cell_type": "markdown",
   "metadata": {},
   "source": [
    "# Download file and read from disc"
   ]
  },
  {
   "cell_type": "code",
   "execution_count": 56,
   "metadata": {},
   "outputs": [],
   "source": [
    "# Download file and read from disc\n",
    "s3.Bucket('firstbucketgauss').download_file('customers.csv', 'customers3.csv')"
   ]
  },
  {
   "cell_type": "code",
   "execution_count": null,
   "metadata": {},
   "outputs": [],
   "source": []
  }
 ],
 "metadata": {
  "kernelspec": {
   "display_name": "Python 3",
   "language": "python",
   "name": "python3"
  },
  "language_info": {
   "codemirror_mode": {
    "name": "ipython",
    "version": 3
   },
   "file_extension": ".py",
   "mimetype": "text/x-python",
   "name": "python",
   "nbconvert_exporter": "python",
   "pygments_lexer": "ipython3",
   "version": "3.11.6"
  }
 },
 "nbformat": 4,
 "nbformat_minor": 2
}
