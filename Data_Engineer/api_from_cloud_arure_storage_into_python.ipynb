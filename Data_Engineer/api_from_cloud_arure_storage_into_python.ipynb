{
 "cells": [
  {
   "cell_type": "code",
   "execution_count": 1,
   "metadata": {},
   "outputs": [
    {
     "name": "stdout",
     "output_type": "stream",
     "text": [
      "Collecting azure-storage-blob\n",
      "  Obtaining dependency information for azure-storage-blob from https://files.pythonhosted.org/packages/be/cd/30306c04f962b55cae44cab2859b5496d0d75521a3bf2e92ec4a6bb61ddb/azure_storage_blob-12.18.3-py3-none-any.whl.metadata\n",
      "  Downloading azure_storage_blob-12.18.3-py3-none-any.whl.metadata (26 kB)\n",
      "Collecting azure-identity\n",
      "  Obtaining dependency information for azure-identity from https://files.pythonhosted.org/packages/30/10/5dbf755b368d10a28d55b06ac1f12512a13e88874a23db82defdea9a8cd9/azure_identity-1.15.0-py3-none-any.whl.metadata\n",
      "  Downloading azure_identity-1.15.0-py3-none-any.whl.metadata (75 kB)\n",
      "     ---------------------------------------- 0.0/75.4 kB ? eta -:--:--\n",
      "     ---------------------------------------- 0.0/75.4 kB ? eta -:--:--\n",
      "     ---------------------------------------- 0.0/75.4 kB ? eta -:--:--\n",
      "     ---------------------------------------- 0.0/75.4 kB ? eta -:--:--\n",
      "     ---------------------------------------- 0.0/75.4 kB ? eta -:--:--\n",
      "     ---------------------------------------- 0.0/75.4 kB ? eta -:--:--\n",
      "     ---------------------------------------- 0.0/75.4 kB ? eta -:--:--\n",
      "     ---------------------------------------- 0.0/75.4 kB ? eta -:--:--\n",
      "     ---------------------------------------- 0.0/75.4 kB ? eta -:--:--\n",
      "     --------------------- ------------------ 41.0/75.4 kB ? eta -:--:--\n",
      "     -------------------------------- ------- 61.4/75.4 kB 1.7 MB/s eta 0:00:01\n",
      "     -------------------------------- ------- 61.4/75.4 kB 1.7 MB/s eta 0:00:01\n",
      "     -------------------------------------- 75.4/75.4 kB 521.6 kB/s eta 0:00:00\n",
      "Collecting azure-core<2.0.0,>=1.28.0 (from azure-storage-blob)\n",
      "  Obtaining dependency information for azure-core<2.0.0,>=1.28.0 from https://files.pythonhosted.org/packages/9c/f8/1cf23a75cb8c2755c539ac967f3a7f607887c4979d073808134803720f0f/azure_core-1.29.5-py3-none-any.whl.metadata\n",
      "  Downloading azure_core-1.29.5-py3-none-any.whl.metadata (36 kB)\n",
      "Requirement already satisfied: cryptography>=2.1.4 in c:\\users\\lenovo\\anaconda3\\lib\\site-packages (from azure-storage-blob) (41.0.3)\n",
      "Requirement already satisfied: typing-extensions>=4.3.0 in c:\\users\\lenovo\\anaconda3\\lib\\site-packages (from azure-storage-blob) (4.7.1)\n",
      "Collecting isodate>=0.6.1 (from azure-storage-blob)\n",
      "  Downloading isodate-0.6.1-py2.py3-none-any.whl (41 kB)\n",
      "     ---------------------------------------- 0.0/41.7 kB ? eta -:--:--\n",
      "     ----------------------------- ---------- 30.7/41.7 kB ? eta -:--:--\n",
      "     ---------------------------------------- 41.7/41.7 kB 1.0 MB/s eta 0:00:00\n",
      "Collecting msal<2.0.0,>=1.24.0 (from azure-identity)\n",
      "  Obtaining dependency information for msal<2.0.0,>=1.24.0 from https://files.pythonhosted.org/packages/35/33/0fd933b627879a9855d02a83a57929b45d0bdbeb050ddd63109cc404fbf6/msal-1.24.1-py2.py3-none-any.whl.metadata\n",
      "  Downloading msal-1.24.1-py2.py3-none-any.whl.metadata (11 kB)\n",
      "Collecting msal-extensions<2.0.0,>=0.3.0 (from azure-identity)\n",
      "  Downloading msal_extensions-1.0.0-py2.py3-none-any.whl (19 kB)\n",
      "Requirement already satisfied: requests>=2.18.4 in c:\\users\\lenovo\\anaconda3\\lib\\site-packages (from azure-core<2.0.0,>=1.28.0->azure-storage-blob) (2.31.0)\n",
      "Requirement already satisfied: six>=1.11.0 in c:\\users\\lenovo\\appdata\\roaming\\python\\python311\\site-packages (from azure-core<2.0.0,>=1.28.0->azure-storage-blob) (1.16.0)\n",
      "Requirement already satisfied: cffi>=1.12 in c:\\users\\lenovo\\anaconda3\\lib\\site-packages (from cryptography>=2.1.4->azure-storage-blob) (1.15.1)\n",
      "Requirement already satisfied: PyJWT[crypto]<3,>=1.0.0 in c:\\users\\lenovo\\anaconda3\\lib\\site-packages (from msal<2.0.0,>=1.24.0->azure-identity) (2.4.0)\n",
      "Collecting portalocker<3,>=1.6 (from msal-extensions<2.0.0,>=0.3.0->azure-identity)\n",
      "  Obtaining dependency information for portalocker<3,>=1.6 from https://files.pythonhosted.org/packages/17/9e/87671efcca80ba6203811540ed1f9c0462c1609d2281d7b7f53cef05da3d/portalocker-2.8.2-py3-none-any.whl.metadata\n",
      "  Downloading portalocker-2.8.2-py3-none-any.whl.metadata (8.5 kB)\n",
      "Requirement already satisfied: pycparser in c:\\users\\lenovo\\anaconda3\\lib\\site-packages (from cffi>=1.12->cryptography>=2.1.4->azure-storage-blob) (2.21)\n",
      "Requirement already satisfied: pywin32>=226 in c:\\users\\lenovo\\appdata\\roaming\\python\\python311\\site-packages (from portalocker<3,>=1.6->msal-extensions<2.0.0,>=0.3.0->azure-identity) (306)\n",
      "Requirement already satisfied: charset-normalizer<4,>=2 in c:\\users\\lenovo\\anaconda3\\lib\\site-packages (from requests>=2.18.4->azure-core<2.0.0,>=1.28.0->azure-storage-blob) (2.0.4)\n",
      "Requirement already satisfied: idna<4,>=2.5 in c:\\users\\lenovo\\anaconda3\\lib\\site-packages (from requests>=2.18.4->azure-core<2.0.0,>=1.28.0->azure-storage-blob) (3.4)\n",
      "Requirement already satisfied: urllib3<3,>=1.21.1 in c:\\users\\lenovo\\anaconda3\\lib\\site-packages (from requests>=2.18.4->azure-core<2.0.0,>=1.28.0->azure-storage-blob) (1.26.16)\n",
      "Requirement already satisfied: certifi>=2017.4.17 in c:\\users\\lenovo\\anaconda3\\lib\\site-packages (from requests>=2.18.4->azure-core<2.0.0,>=1.28.0->azure-storage-blob) (2023.7.22)\n",
      "Downloading azure_storage_blob-12.18.3-py3-none-any.whl (392 kB)\n",
      "   ---------------------------------------- 0.0/393.0 kB ? eta -:--:--\n",
      "   ------ --------------------------------- 61.4/393.0 kB 1.7 MB/s eta 0:00:01\n",
      "   ------ --------------------------------- 61.4/393.0 kB 1.7 MB/s eta 0:00:01\n",
      "   ------ --------------------------------- 61.4/393.0 kB 1.7 MB/s eta 0:00:01\n",
      "   ------ --------------------------------- 61.4/393.0 kB 1.7 MB/s eta 0:00:01\n",
      "   ------ --------------------------------- 61.4/393.0 kB 1.7 MB/s eta 0:00:01\n",
      "   ------ --------------------------------- 61.4/393.0 kB 1.7 MB/s eta 0:00:01\n",
      "   ------ --------------------------------- 61.4/393.0 kB 1.7 MB/s eta 0:00:01\n",
      "   ---------- --------------------------- 112.6/393.0 kB 273.1 kB/s eta 0:00:02\n",
      "   ----------- -------------------------- 122.9/393.0 kB 266.9 kB/s eta 0:00:02\n",
      "   -------------- ----------------------- 153.6/393.0 kB 305.7 kB/s eta 0:00:01\n",
      "   ------------------ ------------------- 194.6/393.0 kB 368.6 kB/s eta 0:00:01\n",
      "   --------------------- ---------------- 225.3/393.0 kB 405.0 kB/s eta 0:00:01\n",
      "   ------------------------ ------------- 256.0/393.0 kB 403.5 kB/s eta 0:00:01\n",
      "   ------------------------ ------------- 256.0/393.0 kB 403.5 kB/s eta 0:00:01\n",
      "   --------------------------- ---------- 286.7/393.0 kB 401.9 kB/s eta 0:00:01\n",
      "   ----------------------------- -------- 307.2/393.0 kB 413.0 kB/s eta 0:00:01\n",
      "   -------------------------------- ----- 337.9/393.0 kB 411.1 kB/s eta 0:00:01\n",
      "   ----------------------------------- -- 368.6/393.0 kB 424.6 kB/s eta 0:00:01\n",
      "   -------------------------------------- 393.0/393.0 kB 437.4 kB/s eta 0:00:00\n",
      "Downloading azure_identity-1.15.0-py3-none-any.whl (164 kB)\n",
      "   ---------------------------------------- 0.0/164.7 kB ? eta -:--:--\n",
      "   --------- ------------------------------ 41.0/164.7 kB 1.9 MB/s eta 0:00:01\n",
      "   ---------------------------------------  163.8/164.7 kB 1.6 MB/s eta 0:00:01\n",
      "   ---------------------------------------- 164.7/164.7 kB 1.6 MB/s eta 0:00:00\n",
      "Downloading azure_core-1.29.5-py3-none-any.whl (192 kB)\n",
      "   ---------------------------------------- 0.0/192.4 kB ? eta -:--:--\n",
      "   ------------------- -------------------- 92.2/192.4 kB 1.7 MB/s eta 0:00:01\n",
      "   ---------------------------------------- 192.4/192.4 kB 1.9 MB/s eta 0:00:00\n",
      "Downloading msal-1.24.1-py2.py3-none-any.whl (95 kB)\n",
      "   ---------------------------------------- 0.0/96.0 kB ? eta -:--:--\n",
      "   -------------------------------------- - 92.2/96.0 kB 2.6 MB/s eta 0:00:01\n",
      "   ---------------------------------------- 96.0/96.0 kB 1.8 MB/s eta 0:00:00\n",
      "Downloading portalocker-2.8.2-py3-none-any.whl (17 kB)\n",
      "Installing collected packages: portalocker, isodate, azure-core, azure-storage-blob, msal, msal-extensions, azure-identity\n",
      "Successfully installed azure-core-1.29.5 azure-identity-1.15.0 azure-storage-blob-12.18.3 isodate-0.6.1 msal-1.24.1 msal-extensions-1.0.0 portalocker-2.8.2\n"
     ]
    }
   ],
   "source": [
    "!pip install azure-storage-blob azure-identity"
   ]
  },
  {
   "cell_type": "code",
   "execution_count": 3,
   "metadata": {},
   "outputs": [],
   "source": [
    "from datetime import datetime, timedelta\n",
    "import os\n",
    "from azure.storage.blob import BlobServiceClient, generate_blob_sas, BlobSasPermissions\n",
    "import pandas as pd"
   ]
  },
  {
   "cell_type": "code",
   "execution_count": 5,
   "metadata": {},
   "outputs": [],
   "source": [
    "# enter credentiales\n",
    "account_name = 'gaussjattastorage12'\n",
    "account_key ='W4FZNLT84uImlsgXz1f0zaNXn5mcea+V8Szbn7Vgo1s/ythAbavD3OgIwPFhiLiO9GyAtWLDhuqu+AStVU+Pjg=='\n",
    "container_name = 'firstexcel12'"
   ]
  },
  {
   "cell_type": "code",
   "execution_count": 8,
   "metadata": {},
   "outputs": [],
   "source": [
    "# create a client to interact with blob storage\n",
    "connect_str = 'DefaultEndpointsProtocol=https;AccountName=' +account_name + ';AccountKey=' + account_key + ';EndpointSuffix=core.windows.net' "
   ]
  },
  {
   "cell_type": "code",
   "execution_count": 10,
   "metadata": {},
   "outputs": [],
   "source": [
    "blob_service_client = BlobServiceClient.from_connection_string(connect_str)"
   ]
  },
  {
   "cell_type": "code",
   "execution_count": 12,
   "metadata": {},
   "outputs": [],
   "source": [
    "# Use the client to connect to the container\n",
    "container_client = blob_service_client.get_container_client(container_name)"
   ]
  },
  {
   "cell_type": "code",
   "execution_count": 14,
   "metadata": {},
   "outputs": [],
   "source": [
    "# get a list of all blob files in the container\n",
    "blob_list = []\n",
    "for blob_i in container_client.list_blobs():\n",
    "    blob_list.append(blob_i.name)"
   ]
  },
  {
   "cell_type": "code",
   "execution_count": 16,
   "metadata": {},
   "outputs": [
    {
     "data": {
      "text/plain": [
       "['2020.xlsx', '50_Startups.csv', 'Produits.xlsx']"
      ]
     },
     "execution_count": 16,
     "metadata": {},
     "output_type": "execute_result"
    }
   ],
   "source": [
    "blob_list"
   ]
  },
  {
   "cell_type": "code",
   "execution_count": 18,
   "metadata": {},
   "outputs": [],
   "source": [
    "#generate a shared access signature for each blob file\n",
    "blob_i = '50_Startups.csv'\n",
    "sas_i = generate_blob_sas(account_name = account_name,\n",
    "                            container_name = container_name,\n",
    "                            blob_name = blob_i,\n",
    "                            account_key = account_key,\n",
    "                            permission = BlobSasPermissions(read=True),\n",
    "                            expiry = datetime.utcnow() + timedelta(hours=1))\n",
    "sas_url = 'https://' + account_name+'.blob.core.windows.net/' + container_name + '/' + blob_i + '?' + sas_i\n",
    "df = pd.read_csv(sas_url)"
   ]
  },
  {
   "cell_type": "code",
   "execution_count": 19,
   "metadata": {},
   "outputs": [
    {
     "data": {
      "text/html": [
       "<div>\n",
       "<style scoped>\n",
       "    .dataframe tbody tr th:only-of-type {\n",
       "        vertical-align: middle;\n",
       "    }\n",
       "\n",
       "    .dataframe tbody tr th {\n",
       "        vertical-align: top;\n",
       "    }\n",
       "\n",
       "    .dataframe thead th {\n",
       "        text-align: right;\n",
       "    }\n",
       "</style>\n",
       "<table border=\"1\" class=\"dataframe\">\n",
       "  <thead>\n",
       "    <tr style=\"text-align: right;\">\n",
       "      <th></th>\n",
       "      <th>R&amp;D Spend</th>\n",
       "      <th>Administration</th>\n",
       "      <th>Marketing Spend</th>\n",
       "      <th>State</th>\n",
       "      <th>Profit</th>\n",
       "    </tr>\n",
       "  </thead>\n",
       "  <tbody>\n",
       "    <tr>\n",
       "      <th>0</th>\n",
       "      <td>165349.20</td>\n",
       "      <td>136897.80</td>\n",
       "      <td>471784.10</td>\n",
       "      <td>New York</td>\n",
       "      <td>192261.83</td>\n",
       "    </tr>\n",
       "    <tr>\n",
       "      <th>1</th>\n",
       "      <td>162597.70</td>\n",
       "      <td>151377.59</td>\n",
       "      <td>443898.53</td>\n",
       "      <td>California</td>\n",
       "      <td>191792.06</td>\n",
       "    </tr>\n",
       "    <tr>\n",
       "      <th>2</th>\n",
       "      <td>153441.51</td>\n",
       "      <td>101145.55</td>\n",
       "      <td>407934.54</td>\n",
       "      <td>Florida</td>\n",
       "      <td>191050.39</td>\n",
       "    </tr>\n",
       "    <tr>\n",
       "      <th>3</th>\n",
       "      <td>144372.41</td>\n",
       "      <td>118671.85</td>\n",
       "      <td>383199.62</td>\n",
       "      <td>New York</td>\n",
       "      <td>182901.99</td>\n",
       "    </tr>\n",
       "    <tr>\n",
       "      <th>4</th>\n",
       "      <td>142107.34</td>\n",
       "      <td>91391.77</td>\n",
       "      <td>366168.42</td>\n",
       "      <td>Florida</td>\n",
       "      <td>166187.94</td>\n",
       "    </tr>\n",
       "  </tbody>\n",
       "</table>\n",
       "</div>"
      ],
      "text/plain": [
       "   R&D Spend  Administration  Marketing Spend       State     Profit\n",
       "0  165349.20       136897.80        471784.10    New York  192261.83\n",
       "1  162597.70       151377.59        443898.53  California  191792.06\n",
       "2  153441.51       101145.55        407934.54     Florida  191050.39\n",
       "3  144372.41       118671.85        383199.62    New York  182901.99\n",
       "4  142107.34        91391.77        366168.42     Florida  166187.94"
      ]
     },
     "execution_count": 19,
     "metadata": {},
     "output_type": "execute_result"
    }
   ],
   "source": [
    "df.head()"
   ]
  },
  {
   "cell_type": "code",
   "execution_count": 20,
   "metadata": {},
   "outputs": [
    {
     "data": {
      "text/plain": [
       "<azure.storage.blob._container_client.ContainerClient at 0x1129a765150>"
      ]
     },
     "execution_count": 20,
     "metadata": {},
     "output_type": "execute_result"
    }
   ],
   "source": [
    "## create a container in azure :\n",
    "container_name = 'gaussjattastorage122'\n",
    "blob_service_client.create_container(container_name)"
   ]
  },
  {
   "cell_type": "code",
   "execution_count": 21,
   "metadata": {},
   "outputs": [
    {
     "name": "stdout",
     "output_type": "stream",
     "text": [
      "Uploading file : 50_Startups.csv...\n"
     ]
    }
   ],
   "source": [
    "# Upload my files:\n",
    "\n",
    "file_folder = './files'\n",
    "for file_name in os.listdir(file_folder):\n",
    "    blob_object = blob_service_client.get_blob_client(container=container_name, blob=file_name)\n",
    "    print(f'Uploading file : {file_name}...')\n",
    "    \n",
    "    with open(os.path.join(file_folder, file_name), mode='rb') as file_data:\n",
    "        blob_object.upload_blob(file_data)"
   ]
  }
 ],
 "metadata": {
  "kernelspec": {
   "display_name": "base",
   "language": "python",
   "name": "python3"
  },
  "language_info": {
   "codemirror_mode": {
    "name": "ipython",
    "version": 3
   },
   "file_extension": ".py",
   "mimetype": "text/x-python",
   "name": "python",
   "nbconvert_exporter": "python",
   "pygments_lexer": "ipython3",
   "version": "3.11.5"
  }
 },
 "nbformat": 4,
 "nbformat_minor": 2
}
