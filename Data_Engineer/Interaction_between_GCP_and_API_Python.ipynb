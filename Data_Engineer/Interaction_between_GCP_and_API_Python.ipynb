{
 "cells": [
  {
   "cell_type": "code",
   "execution_count": 1,
   "metadata": {},
   "outputs": [
    {
     "name": "stdout",
     "output_type": "stream",
     "text": [
      "Collecting google-cloud-storage\n",
      "  Obtaining dependency information for google-cloud-storage from https://files.pythonhosted.org/packages/04/72/71b1b531cefa1daff8f6a2a70b4d4fa18dd4da851b5486d53578811b0838/google_cloud_storage-2.13.0-py2.py3-none-any.whl.metadata\n",
      "  Downloading google_cloud_storage-2.13.0-py2.py3-none-any.whl.metadata (6.1 kB)\n",
      "Collecting google-auth<3.0dev,>=2.23.3 (from google-cloud-storage)\n",
      "  Obtaining dependency information for google-auth<3.0dev,>=2.23.3 from https://files.pythonhosted.org/packages/86/a7/75911c13a242735d5aeaca6a272da380335ff4ba5f26d6b2ae20ff682d13/google_auth-2.23.4-py2.py3-none-any.whl.metadata\n",
      "  Downloading google_auth-2.23.4-py2.py3-none-any.whl.metadata (4.7 kB)\n",
      "Collecting google-api-core!=2.0.*,!=2.1.*,!=2.2.*,!=2.3.0,<3.0.0dev,>=1.31.5 (from google-cloud-storage)\n",
      "  Obtaining dependency information for google-api-core!=2.0.*,!=2.1.*,!=2.2.*,!=2.3.0,<3.0.0dev,>=1.31.5 from https://files.pythonhosted.org/packages/4d/ce/4fd62ea66b3508debc795e475336ce915929765870f0ad52328426ba016e/google_api_core-2.12.0-py3-none-any.whl.metadata\n",
      "  Downloading google_api_core-2.12.0-py3-none-any.whl.metadata (2.7 kB)\n",
      "Collecting google-cloud-core<3.0dev,>=2.3.0 (from google-cloud-storage)\n",
      "  Obtaining dependency information for google-cloud-core<3.0dev,>=2.3.0 from https://files.pythonhosted.org/packages/a2/40/02045f776fdb6e44194f34b6375a26ce8a61bd9bd03cd8930ed91cf51a62/google_cloud_core-2.3.3-py2.py3-none-any.whl.metadata\n",
      "  Downloading google_cloud_core-2.3.3-py2.py3-none-any.whl.metadata (2.5 kB)\n",
      "Collecting google-resumable-media>=2.6.0 (from google-cloud-storage)\n",
      "  Obtaining dependency information for google-resumable-media>=2.6.0 from https://files.pythonhosted.org/packages/c7/4f/b8e5e22406e5aeafa46df8799939d5eeee52f18eeed339675167fac6603a/google_resumable_media-2.6.0-py2.py3-none-any.whl.metadata\n",
      "  Downloading google_resumable_media-2.6.0-py2.py3-none-any.whl.metadata (2.1 kB)\n",
      "Collecting requests<3.0.0dev,>=2.18.0 (from google-cloud-storage)\n",
      "  Obtaining dependency information for requests<3.0.0dev,>=2.18.0 from https://files.pythonhosted.org/packages/70/8e/0e2d847013cb52cd35b38c009bb167a1a26b2ce6cd6965bf26b47bc0bf44/requests-2.31.0-py3-none-any.whl.metadata\n",
      "  Downloading requests-2.31.0-py3-none-any.whl.metadata (4.6 kB)\n",
      "Collecting google-crc32c<2.0dev,>=1.0 (from google-cloud-storage)\n",
      "  Downloading google_crc32c-1.5.0-cp311-cp311-win_amd64.whl (27 kB)\n",
      "Collecting googleapis-common-protos<2.0.dev0,>=1.56.2 (from google-api-core!=2.0.*,!=2.1.*,!=2.2.*,!=2.3.0,<3.0.0dev,>=1.31.5->google-cloud-storage)\n",
      "  Obtaining dependency information for googleapis-common-protos<2.0.dev0,>=1.56.2 from https://files.pythonhosted.org/packages/21/49/12996dc0238e017504dceea1d121a48bd49fb3f4416f40d59fc3e924b4f3/googleapis_common_protos-1.61.0-py2.py3-none-any.whl.metadata\n",
      "  Downloading googleapis_common_protos-1.61.0-py2.py3-none-any.whl.metadata (1.5 kB)\n",
      "Collecting protobuf!=3.20.0,!=3.20.1,!=4.21.0,!=4.21.1,!=4.21.2,!=4.21.3,!=4.21.4,!=4.21.5,<5.0.0.dev0,>=3.19.5 (from google-api-core!=2.0.*,!=2.1.*,!=2.2.*,!=2.3.0,<3.0.0dev,>=1.31.5->google-cloud-storage)\n",
      "  Obtaining dependency information for protobuf!=3.20.0,!=3.20.1,!=4.21.0,!=4.21.1,!=4.21.2,!=4.21.3,!=4.21.4,!=4.21.5,<5.0.0.dev0,>=3.19.5 from https://files.pythonhosted.org/packages/72/eb/a07cc36ed9b119062886935a8371da8a977dda30b19cf57fe9162589b6f7/protobuf-4.25.0-cp310-abi3-win_amd64.whl.metadata\n",
      "  Downloading protobuf-4.25.0-cp310-abi3-win_amd64.whl.metadata (541 bytes)\n",
      "Collecting cachetools<6.0,>=2.0.0 (from google-auth<3.0dev,>=2.23.3->google-cloud-storage)\n",
      "  Obtaining dependency information for cachetools<6.0,>=2.0.0 from https://files.pythonhosted.org/packages/a2/91/2d843adb9fbd911e0da45fbf6f18ca89d07a087c3daa23e955584f90ebf4/cachetools-5.3.2-py3-none-any.whl.metadata\n",
      "  Downloading cachetools-5.3.2-py3-none-any.whl.metadata (5.2 kB)\n",
      "Collecting pyasn1-modules>=0.2.1 (from google-auth<3.0dev,>=2.23.3->google-cloud-storage)\n",
      "  Downloading pyasn1_modules-0.3.0-py2.py3-none-any.whl (181 kB)\n",
      "     ---------------------------------------- 0.0/181.3 kB ? eta -:--:--\n",
      "     -------- ---------------------------- 41.0/181.3 kB 991.0 kB/s eta 0:00:01\n",
      "     ------------ ------------------------ 61.4/181.3 kB 544.7 kB/s eta 0:00:01\n",
      "     ------------ ------------------------ 61.4/181.3 kB 544.7 kB/s eta 0:00:01\n",
      "     ------------------ ------------------ 92.2/181.3 kB 476.3 kB/s eta 0:00:01\n",
      "     ------------------------ ----------- 122.9/181.3 kB 514.3 kB/s eta 0:00:01\n",
      "     -------------------------------- --- 163.8/181.3 kB 656.4 kB/s eta 0:00:01\n",
      "     ------------------------------------ 181.3/181.3 kB 576.0 kB/s eta 0:00:00\n",
      "Collecting rsa<5,>=3.1.4 (from google-auth<3.0dev,>=2.23.3->google-cloud-storage)\n",
      "  Downloading rsa-4.9-py3-none-any.whl (34 kB)\n",
      "Requirement already satisfied: charset-normalizer<4,>=2 in c:\\users\\lenovo\\appdata\\local\\packages\\pythonsoftwarefoundation.python.3.11_qbz5n2kfra8p0\\localcache\\local-packages\\python311\\site-packages (from requests<3.0.0dev,>=2.18.0->google-cloud-storage) (3.3.2)\n",
      "Requirement already satisfied: idna<4,>=2.5 in c:\\users\\lenovo\\appdata\\local\\packages\\pythonsoftwarefoundation.python.3.11_qbz5n2kfra8p0\\localcache\\local-packages\\python311\\site-packages (from requests<3.0.0dev,>=2.18.0->google-cloud-storage) (3.4)\n",
      "Requirement already satisfied: urllib3<3,>=1.21.1 in c:\\users\\lenovo\\appdata\\local\\packages\\pythonsoftwarefoundation.python.3.11_qbz5n2kfra8p0\\localcache\\local-packages\\python311\\site-packages (from requests<3.0.0dev,>=2.18.0->google-cloud-storage) (2.0.7)\n",
      "Collecting certifi>=2017.4.17 (from requests<3.0.0dev,>=2.18.0->google-cloud-storage)\n",
      "  Obtaining dependency information for certifi>=2017.4.17 from https://files.pythonhosted.org/packages/4c/dd/2234eab22353ffc7d94e8d13177aaa050113286e93e7b40eae01fbf7c3d9/certifi-2023.7.22-py3-none-any.whl.metadata\n",
      "  Downloading certifi-2023.7.22-py3-none-any.whl.metadata (2.2 kB)\n",
      "Collecting pyasn1<0.6.0,>=0.4.6 (from pyasn1-modules>=0.2.1->google-auth<3.0dev,>=2.23.3->google-cloud-storage)\n",
      "  Downloading pyasn1-0.5.0-py2.py3-none-any.whl (83 kB)\n",
      "     ---------------------------------------- 0.0/83.9 kB ? eta -:--:--\n",
      "     ------------------- -------------------- 41.0/83.9 kB 2.0 MB/s eta 0:00:01\n",
      "     ----------------------------- ---------- 61.4/83.9 kB 3.4 MB/s eta 0:00:01\n",
      "     -------------------------------------  81.9/83.9 kB 770.8 kB/s eta 0:00:01\n",
      "     -------------------------------------- 83.9/83.9 kB 589.0 kB/s eta 0:00:00\n",
      "Downloading google_cloud_storage-2.13.0-py2.py3-none-any.whl (121 kB)\n",
      "   ---------------------------------------- 0.0/121.1 kB ? eta -:--:--\n",
      "   ------------- -------------------------- 41.0/121.1 kB 2.0 MB/s eta 0:00:01\n",
      "   ------------------------------ --------- 92.2/121.1 kB 1.3 MB/s eta 0:00:01\n",
      "   ------------------------------ --------- 92.2/121.1 kB 1.3 MB/s eta 0:00:01\n",
      "   ------------------------------ --------- 92.2/121.1 kB 1.3 MB/s eta 0:00:01\n",
      "   ----------------------------------- -- 112.6/121.1 kB 504.4 kB/s eta 0:00:01\n",
      "   ----------------------------------- -- 112.6/121.1 kB 504.4 kB/s eta 0:00:01\n",
      "   -------------------------------------- 121.1/121.1 kB 418.4 kB/s eta 0:00:00\n",
      "Downloading google_api_core-2.12.0-py3-none-any.whl (121 kB)\n",
      "   ---------------------------------------- 0.0/121.4 kB ? eta -:--:--\n",
      "   -------------------- ------------------- 61.4/121.4 kB 1.7 MB/s eta 0:00:01\n",
      "   -------------------------- ------------- 81.9/121.4 kB 1.2 MB/s eta 0:00:01\n",
      "   ----------------------------------- -- 112.6/121.4 kB 939.4 kB/s eta 0:00:01\n",
      "   -------------------------------------- 121.4/121.4 kB 712.8 kB/s eta 0:00:00\n",
      "Downloading google_auth-2.23.4-py2.py3-none-any.whl (183 kB)\n",
      "   ---------------------------------------- 0.0/183.3 kB ? eta -:--:--\n",
      "   -------- ------------------------------ 41.0/183.3 kB 960.0 kB/s eta 0:00:01\n",
      "   -------------------------- ------------- 122.9/183.3 kB 1.8 MB/s eta 0:00:01\n",
      "   -------------------------- ------------- 122.9/183.3 kB 1.8 MB/s eta 0:00:01\n",
      "   ------------------------------- -------- 143.4/183.3 kB 1.1 MB/s eta 0:00:01\n",
      "   ------------------------------- ------ 153.6/183.3 kB 762.6 kB/s eta 0:00:01\n",
      "   -------------------------------------- 183.3/183.3 kB 692.2 kB/s eta 0:00:00\n",
      "Downloading google_cloud_core-2.3.3-py2.py3-none-any.whl (29 kB)\n",
      "Downloading google_resumable_media-2.6.0-py2.py3-none-any.whl (80 kB)\n",
      "   ---------------------------------------- 0.0/80.3 kB ? eta -:--:--\n",
      "   --------------- ------------------------ 30.7/80.3 kB ? eta -:--:--\n",
      "   ------------------------------ --------- 61.4/80.3 kB 825.8 kB/s eta 0:00:01\n",
      "   ---------------------------------------- 80.3/80.3 kB 898.2 kB/s eta 0:00:00\n",
      "Using cached requests-2.31.0-py3-none-any.whl (62 kB)\n",
      "Downloading cachetools-5.3.2-py3-none-any.whl (9.3 kB)\n",
      "Using cached certifi-2023.7.22-py3-none-any.whl (158 kB)\n",
      "Downloading googleapis_common_protos-1.61.0-py2.py3-none-any.whl (230 kB)\n",
      "   ---------------------------------------- 0.0/230.9 kB ? eta -:--:--\n",
      "   - -------------------------------------- 10.2/230.9 kB ? eta -:--:--\n",
      "   ------ -------------------------------- 41.0/230.9 kB 653.6 kB/s eta 0:00:01\n",
      "   ------------- ------------------------- 81.9/230.9 kB 919.0 kB/s eta 0:00:01\n",
      "   ------------- ------------------------- 81.9/230.9 kB 919.0 kB/s eta 0:00:01\n",
      "   ------------- ------------------------- 81.9/230.9 kB 919.0 kB/s eta 0:00:01\n",
      "   ------------- ------------------------- 81.9/230.9 kB 919.0 kB/s eta 0:00:01\n",
      "   -------------------------------- ----- 194.6/230.9 kB 692.9 kB/s eta 0:00:01\n",
      "   --------------------------------- ---- 204.8/230.9 kB 731.4 kB/s eta 0:00:01\n",
      "   -------------------------------------  225.3/230.9 kB 655.6 kB/s eta 0:00:01\n",
      "   -------------------------------------- 230.9/230.9 kB 564.3 kB/s eta 0:00:00\n",
      "Downloading protobuf-4.25.0-cp310-abi3-win_amd64.whl (413 kB)\n",
      "   ---------------------------------------- 0.0/413.2 kB ? eta -:--:--\n",
      "   --- ------------------------------------ 41.0/413.2 kB ? eta -:--:--\n",
      "   -------- ------------------------------- 92.2/413.2 kB 1.7 MB/s eta 0:00:01\n",
      "   ----------- ---------------------------- 122.9/413.2 kB 1.2 MB/s eta 0:00:01\n",
      "   ---------------- ----------------------- 174.1/413.2 kB 1.3 MB/s eta 0:00:01\n",
      "   ------------------------ --------------- 256.0/413.2 kB 1.4 MB/s eta 0:00:01\n",
      "   ------------------------------ --------- 317.4/413.2 kB 1.4 MB/s eta 0:00:01\n",
      "   ----------------------------------- ---- 368.6/413.2 kB 1.3 MB/s eta 0:00:01\n",
      "   ---------------------------------------  409.6/413.2 kB 1.4 MB/s eta 0:00:01\n",
      "   ---------------------------------------- 413.2/413.2 kB 1.2 MB/s eta 0:00:00\n",
      "Installing collected packages: pyasn1, protobuf, google-crc32c, certifi, cachetools, rsa, requests, pyasn1-modules, googleapis-common-protos, google-resumable-media, google-auth, google-api-core, google-cloud-core, google-cloud-storage\n",
      "Successfully installed cachetools-5.3.2 certifi-2023.7.22 google-api-core-2.12.0 google-auth-2.23.4 google-cloud-core-2.3.3 google-cloud-storage-2.13.0 google-crc32c-1.5.0 google-resumable-media-2.6.0 googleapis-common-protos-1.61.0 protobuf-4.25.0 pyasn1-0.5.0 pyasn1-modules-0.3.0 requests-2.31.0 rsa-4.9\n",
      "Note: you may need to restart the kernel to use updated packages.\n"
     ]
    },
    {
     "name": "stderr",
     "output_type": "stream",
     "text": [
      "\n",
      "[notice] A new release of pip is available: 23.2.1 -> 23.3.1\n",
      "[notice] To update, run: C:\\Users\\Lenovo\\AppData\\Local\\Microsoft\\WindowsApps\\PythonSoftwareFoundation.Python.3.11_qbz5n2kfra8p0\\python.exe -m pip install --upgrade pip\n"
     ]
    }
   ],
   "source": [
    "pip install google-cloud-storage"
   ]
  },
  {
   "cell_type": "code",
   "execution_count": 21,
   "metadata": {},
   "outputs": [],
   "source": [
    "from google.cloud import storage # pip install google-cloud-storage"
   ]
  },
  {
   "cell_type": "code",
   "execution_count": 22,
   "metadata": {},
   "outputs": [],
   "source": [
    "client = storage.Client()"
   ]
  },
  {
   "cell_type": "code",
   "execution_count": 23,
   "metadata": {},
   "outputs": [
    {
     "name": "stdout",
     "output_type": "stream",
     "text": [
      "Bucket name: gaussstorage_gcp\n"
     ]
    }
   ],
   "source": [
    "# storage_client = storage.Client()\n",
    "buckets = list(client.list_buckets())\n",
    "for bucket in buckets:\n",
    "    print(f\"Bucket name: {bucket.name}\")\n"
   ]
  },
  {
   "cell_type": "markdown",
   "metadata": {},
   "source": [
    "# Uploading the file from localy into GCP bucket"
   ]
  },
  {
   "cell_type": "code",
   "execution_count": 26,
   "metadata": {},
   "outputs": [
    {
     "name": "stdout",
     "output_type": "stream",
     "text": [
      "The file customers.csv has been uploaded to GCS as gcs-file-name\n"
     ]
    }
   ],
   "source": [
    "project_id = 'My First Project'\n",
    "bucket_name = 'gaussstorage_gcp'\n",
    "local_file_path = 'customers.csv'\n",
    "destination_blob_name = 'gcs-file-name'\n",
    "\n",
    "storage_client = storage.Client(project=project_id)\n",
    "\n",
    "bucket = storage_client.bucket(bucket_name)\n",
    "blob = bucket.blob(destination_blob_name)\n",
    "\n",
    "# Upload the file to GCS.\n",
    "blob.upload_from_filename(local_file_path)\n",
    "\n",
    "print(f'The file {local_file_path} has been uploaded to GCS as {destination_blob_name}')"
   ]
  },
  {
   "cell_type": "markdown",
   "metadata": {},
   "source": [
    "# Load a file directly from GCP bucket into Pandas"
   ]
  },
  {
   "cell_type": "code",
   "execution_count": 34,
   "metadata": {},
   "outputs": [],
   "source": [
    "import pandas as pd \n",
    "import io\n",
    "from io import BytesIO\n",
    "    "
   ]
  },
  {
   "cell_type": "code",
   "execution_count": 35,
   "metadata": {},
   "outputs": [],
   "source": [
    "df = pd.read_csv(\n",
    "    io.BytesIO(\n",
    "        bucket.blob(blob_name = 'customers.csv').download_as_string()\n",
    "    ),\n",
    "    encoding= 'UTF-8',\n",
    "    sep=',')"
   ]
  },
  {
   "cell_type": "code",
   "execution_count": 36,
   "metadata": {},
   "outputs": [
    {
     "data": {
      "text/html": [
       "<div>\n",
       "<style scoped>\n",
       "    .dataframe tbody tr th:only-of-type {\n",
       "        vertical-align: middle;\n",
       "    }\n",
       "\n",
       "    .dataframe tbody tr th {\n",
       "        vertical-align: top;\n",
       "    }\n",
       "\n",
       "    .dataframe thead th {\n",
       "        text-align: right;\n",
       "    }\n",
       "</style>\n",
       "<table border=\"1\" class=\"dataframe\">\n",
       "  <thead>\n",
       "    <tr style=\"text-align: right;\">\n",
       "      <th></th>\n",
       "      <th>customerID</th>\n",
       "      <th>companyName</th>\n",
       "      <th>contactName</th>\n",
       "      <th>contactTitle</th>\n",
       "      <th>address</th>\n",
       "      <th>city</th>\n",
       "      <th>region</th>\n",
       "      <th>postalCode</th>\n",
       "      <th>country</th>\n",
       "      <th>phone</th>\n",
       "      <th>fax</th>\n",
       "    </tr>\n",
       "  </thead>\n",
       "  <tbody>\n",
       "    <tr>\n",
       "      <th>0</th>\n",
       "      <td>ALFKI</td>\n",
       "      <td>Alfreds Futterkiste</td>\n",
       "      <td>Maria Anders</td>\n",
       "      <td>Sales Representative</td>\n",
       "      <td>Obere Str. 57</td>\n",
       "      <td>Berlin</td>\n",
       "      <td>NaN</td>\n",
       "      <td>12209</td>\n",
       "      <td>Germany</td>\n",
       "      <td>030-0074321</td>\n",
       "      <td>030-0076545</td>\n",
       "    </tr>\n",
       "    <tr>\n",
       "      <th>1</th>\n",
       "      <td>ANATR</td>\n",
       "      <td>Ana Trujillo Emparedados y helados</td>\n",
       "      <td>Ana Trujillo</td>\n",
       "      <td>Owner</td>\n",
       "      <td>Avda. de la Constitución 2222</td>\n",
       "      <td>México D.F.</td>\n",
       "      <td>NaN</td>\n",
       "      <td>5021</td>\n",
       "      <td>Mexico</td>\n",
       "      <td>(5) 555-4729</td>\n",
       "      <td>(5) 555-3745</td>\n",
       "    </tr>\n",
       "    <tr>\n",
       "      <th>2</th>\n",
       "      <td>ANTON</td>\n",
       "      <td>Antonio Moreno Taquería</td>\n",
       "      <td>Antonio Moreno</td>\n",
       "      <td>Owner</td>\n",
       "      <td>Mataderos  2312</td>\n",
       "      <td>México D.F.</td>\n",
       "      <td>NaN</td>\n",
       "      <td>5023</td>\n",
       "      <td>Mexico</td>\n",
       "      <td>(5) 555-3932</td>\n",
       "      <td>NaN</td>\n",
       "    </tr>\n",
       "    <tr>\n",
       "      <th>3</th>\n",
       "      <td>AROUT</td>\n",
       "      <td>Around the Horn</td>\n",
       "      <td>Thomas Hardy</td>\n",
       "      <td>Sales Representative</td>\n",
       "      <td>120 Hanover Sq.</td>\n",
       "      <td>London</td>\n",
       "      <td>NaN</td>\n",
       "      <td>WA1 1DP</td>\n",
       "      <td>UK</td>\n",
       "      <td>(171) 555-7788</td>\n",
       "      <td>(171) 555-6750</td>\n",
       "    </tr>\n",
       "    <tr>\n",
       "      <th>4</th>\n",
       "      <td>BERGS</td>\n",
       "      <td>Berglunds snabbköp</td>\n",
       "      <td>Christina Berglund</td>\n",
       "      <td>Order Administrator</td>\n",
       "      <td>Berguvsvägen  8</td>\n",
       "      <td>Luleå</td>\n",
       "      <td>NaN</td>\n",
       "      <td>S-958 22</td>\n",
       "      <td>Sweden</td>\n",
       "      <td>0921-12 34 65</td>\n",
       "      <td>0921-12 34 67</td>\n",
       "    </tr>\n",
       "  </tbody>\n",
       "</table>\n",
       "</div>"
      ],
      "text/plain": [
       "  customerID                         companyName         contactName  \\\n",
       "0      ALFKI                 Alfreds Futterkiste        Maria Anders   \n",
       "1      ANATR  Ana Trujillo Emparedados y helados        Ana Trujillo   \n",
       "2      ANTON             Antonio Moreno Taquería      Antonio Moreno   \n",
       "3      AROUT                     Around the Horn        Thomas Hardy   \n",
       "4      BERGS                  Berglunds snabbköp  Christina Berglund   \n",
       "\n",
       "           contactTitle                        address         city region  \\\n",
       "0  Sales Representative                  Obere Str. 57       Berlin    NaN   \n",
       "1                 Owner  Avda. de la Constitución 2222  México D.F.    NaN   \n",
       "2                 Owner                Mataderos  2312  México D.F.    NaN   \n",
       "3  Sales Representative                120 Hanover Sq.       London    NaN   \n",
       "4   Order Administrator                Berguvsvägen  8        Luleå    NaN   \n",
       "\n",
       "  postalCode  country           phone             fax  \n",
       "0      12209  Germany     030-0074321     030-0076545  \n",
       "1       5021   Mexico    (5) 555-4729    (5) 555-3745  \n",
       "2       5023   Mexico    (5) 555-3932             NaN  \n",
       "3    WA1 1DP       UK  (171) 555-7788  (171) 555-6750  \n",
       "4   S-958 22   Sweden   0921-12 34 65   0921-12 34 67  "
      ]
     },
     "execution_count": 36,
     "metadata": {},
     "output_type": "execute_result"
    }
   ],
   "source": [
    "df.head()"
   ]
  },
  {
   "cell_type": "markdown",
   "metadata": {},
   "source": [
    "# Display files list from GCP bucket "
   ]
  },
  {
   "cell_type": "code",
   "execution_count": 29,
   "metadata": {},
   "outputs": [
    {
     "data": {
      "text/plain": [
       "['50_Startups.csv', 'customers.csv', 'gcs-file-name']"
      ]
     },
     "execution_count": 29,
     "metadata": {},
     "output_type": "execute_result"
    }
   ],
   "source": [
    "bucket = storage_client.get_bucket('gaussstorage_gcp')\n",
    "filename = [filename.name for filename in list(bucket.list_blobs(prefix=''))]\n",
    "filename"
   ]
  },
  {
   "cell_type": "markdown",
   "metadata": {},
   "source": [
    "# Download a file from GCP bucket into localy"
   ]
  },
  {
   "cell_type": "code",
   "execution_count": 31,
   "metadata": {},
   "outputs": [],
   "source": [
    "blob = bucket.blob(blob_name= 'customers.csv').download_as_string()"
   ]
  },
  {
   "cell_type": "code",
   "execution_count": 33,
   "metadata": {},
   "outputs": [],
   "source": [
    "with open('test.csv', 'wb') as f :\n",
    "    f.write(blob)"
   ]
  },
  {
   "cell_type": "markdown",
   "metadata": {},
   "source": [
    "# Deleting a file from GCP bucket"
   ]
  },
  {
   "cell_type": "code",
   "execution_count": 37,
   "metadata": {},
   "outputs": [],
   "source": [
    "delete_file = 'gcs-file-name'\n",
    "bucket = storage_client.get_bucket('gaussstorage_gcp')\n",
    "blob = bucket.blob(delete_file)"
   ]
  },
  {
   "cell_type": "code",
   "execution_count": 38,
   "metadata": {},
   "outputs": [],
   "source": [
    "blob.delete()"
   ]
  }
 ],
 "metadata": {
  "kernelspec": {
   "display_name": "Python 3",
   "language": "python",
   "name": "python3"
  },
  "language_info": {
   "codemirror_mode": {
    "name": "ipython",
    "version": 3
   },
   "file_extension": ".py",
   "mimetype": "text/x-python",
   "name": "python",
   "nbconvert_exporter": "python",
   "pygments_lexer": "ipython3",
   "version": "3.11.6"
  }
 },
 "nbformat": 4,
 "nbformat_minor": 2
}
